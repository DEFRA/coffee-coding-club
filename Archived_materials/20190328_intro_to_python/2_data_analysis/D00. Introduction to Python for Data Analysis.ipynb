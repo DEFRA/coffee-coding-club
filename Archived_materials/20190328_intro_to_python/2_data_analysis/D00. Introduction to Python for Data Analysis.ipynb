{
 "cells": [
  {
   "cell_type": "markdown",
   "metadata": {},
   "source": [
    "# D00: Introduction to Python for Data Analysis"
   ]
  },
  {
   "cell_type": "markdown",
   "metadata": {},
   "source": [
    "Welcome to the second section of this course: Python for Data Analysis!\n",
    "\n",
    "In this section of the course we'll explore how you can use Python to read, clean, manage, structure, wrangle, aggregate, display and output data. This kind of work is critical to being able to glean insight from, and visualise data.\n",
    "\n",
    "In this lesson we'll start by meeting a few of the useful data analysis libraries that we'll be using."
   ]
  },
  {
   "cell_type": "markdown",
   "metadata": {},
   "source": [
    "<img src = \"img/numpy.jpg\">"
   ]
  },
  {
   "cell_type": "markdown",
   "metadata": {},
   "source": [
    "<a href = \"http://www.numpy.org/\">Numpy</a> is short for 'Numerical Python' and it is a library focused around mathematical. Numpy provides data structures that allow us to create multi-dimensional arrays and matricies and also provides a large number of mathematical functions.\n",
    "\n",
    "Numpy comes as part of the Anaconda installation so you don't need to download anything further."
   ]
  },
  {
   "cell_type": "markdown",
   "metadata": {},
   "source": [
    "<img src = \"img/scipy.png\">"
   ]
  },
  {
   "cell_type": "markdown",
   "metadata": {},
   "source": [
    "<a href = \"https://www.scipy.org/\">Scipy</a> is short for 'Scientific Python' and is generally used for analytics, statistics and engineering.\n",
    "\n",
    "SciPy contains a wide variety of modules including algegra, interpolation, statistics and many more. We'll not be delving too deeply into scipy as part of this course, however it is an important library with a lot of useful functions that you should be aware of.\n",
    "\n",
    "As with Numpy, Scipy comes as part of Anaconda."
   ]
  },
  {
   "cell_type": "markdown",
   "metadata": {
    "collapsed": true
   },
   "source": [
    "<img src = \"img/pandas.jpg\">"
   ]
  },
  {
   "cell_type": "markdown",
   "metadata": {},
   "source": [
    "<a href = \"http://pandas.pydata.org/\">Pandas</a> is built on top of Numpy and allows us to create more complex data structures than we've previously met, the likes of which we're probably more comfortable with as analysts, including series and dataframes. It also provides us with a wide range of tools for reading, dealing with and transforming these data structures as well as tools to convert data from traditional Python data strucutres such as lists, tuples and dictionaries.\n",
    "\n",
    "Pandas is built on top of Numpy so the data structures that are created with both packages integrate well with each other and also comes as part of the Anaconda installation."
   ]
  },
  {
   "cell_type": "markdown",
   "metadata": {
    "collapsed": true
   },
   "source": [
    "## Further Reading"
   ]
  },
  {
   "cell_type": "markdown",
   "metadata": {},
   "source": [
    "<a href = \"http://pandas.pydata.org/pandas-docs/stable/10min.html\">10 Minutes to Pandas</a><br/>\n",
    "<a href = \"http://pandas.pydata.org/pandas-docs/stable/comparison_with_sql.html\">Pandas comparison with SQL</a><br/>\n",
    "<a href = \"http://pandas.pydata.org/pandas-docs/stable/comparison_with_r.html\">Pandas comparison with R</a><br/>\n",
    "<a href = \"http://pandas.pydata.org/pandas-docs/stable/comparison_with_sas.html\">Pandas comparison with SAS</a><br/>\n",
    "<a href = \"http://pandas.pydata.org/pandas-docs/stable/tutorials.html\">Excellent selection of Pandas tutorials</a><br/>"
   ]
  }
 ],
 "metadata": {
  "anaconda-cloud": {},
  "kernelspec": {
   "display_name": "Python [default]",
   "language": "python",
   "name": "python3"
  },
  "language_info": {
   "codemirror_mode": {
    "name": "ipython",
    "version": 3
   },
   "file_extension": ".py",
   "mimetype": "text/x-python",
   "name": "python",
   "nbconvert_exporter": "python",
   "pygments_lexer": "ipython3",
   "version": "3.5.2"
  }
 },
 "nbformat": 4,
 "nbformat_minor": 0
}
