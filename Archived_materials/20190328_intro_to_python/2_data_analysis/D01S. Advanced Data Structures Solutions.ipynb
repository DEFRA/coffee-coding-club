{
 "cells": [
  {
   "cell_type": "markdown",
   "metadata": {},
   "source": [
    "# D01S: Advanced Data Structures Solutions"
   ]
  },
  {
   "cell_type": "markdown",
   "metadata": {},
   "source": [
    "#### Exercise 1: Create the following Numpy arrays with random numbers for the following dimensions:\n",
    "\n",
    "* 5 x 5\n",
    "* 1 x 20\n",
    "* 90 x 90\n",
    "\n",
    "Also round the arrays to 3 decimal places."
   ]
  },
  {
   "cell_type": "code",
   "execution_count": null,
   "metadata": {
    "collapsed": false
   },
   "outputs": [],
   "source": [
    "import numpy as np\n",
    "\n",
    "arr1 = np.random.random((5,5))\n",
    "arr1 = np.round(arr1,3) \n",
    "arr2 = np.random.random((1,20))\n",
    "arr2 = np.round(arr2,3) \n",
    "arr3 = np.random.random((90,90))\n",
    "arr3 = np.round(arr3,3)\n",
    "arr3"
   ]
  },
  {
   "cell_type": "markdown",
   "metadata": {},
   "source": [
    "#### Exercise 2: Create a 1 dimensional array containing 10 records and convert this to a pandas series with the custom index:"
   ]
  },
  {
   "cell_type": "code",
   "execution_count": null,
   "metadata": {
    "collapsed": true
   },
   "outputs": [],
   "source": [
    "custom_index = ['A','B','C','D','E','F','G','H','I','J']"
   ]
  },
  {
   "cell_type": "code",
   "execution_count": null,
   "metadata": {
    "collapsed": false
   },
   "outputs": [],
   "source": [
    "import pandas as pd\n",
    "\n",
    "arr4 = np.random.random(10)\n",
    "ser1 = pd.Series(data=arr4,index=custom_index)\n",
    "ser1"
   ]
  },
  {
   "cell_type": "markdown",
   "metadata": {},
   "source": [
    "#### Exercise 3: Create a Pandas dataframe from the following data, and name the columns col1 - col5. Then...\n",
    "\n",
    "1) Convert col1 to an array.\n",
    "2) Convert col2 to a list.\n",
    "3) Convert col3 to a dictionary."
   ]
  },
  {
   "cell_type": "code",
   "execution_count": null,
   "metadata": {
    "collapsed": false
   },
   "outputs": [],
   "source": [
    "index = np.arange(0,5)\n",
    "data1 = np.random.random(5)\n",
    "data2 = np.random.random(5)\n",
    "data3 = np.random.random(5)\n",
    "data4 = np.random.random(5)\n",
    "data5 = np.random.random(5)\n",
    "\n",
    "data1"
   ]
  },
  {
   "cell_type": "code",
   "execution_count": null,
   "metadata": {
    "collapsed": false
   },
   "outputs": [],
   "source": [
    "cols = ['col1','col2','col3','col4','col5']\n",
    "df1 = pd.DataFrame(data=[data1,data2,data3,data4,data5],  \n",
    "                  index=index,     \n",
    "                  columns=cols)          \n",
    "df1\n",
    "\n",
    "\n",
    "array = df1['col1'].values\n",
    "list = df1['col2'].tolist()\n",
    "dict = df1['col3'].to_dict()\n",
    "\n",
    "print(array,list,dict)"
   ]
  },
  {
   "cell_type": "code",
   "execution_count": null,
   "metadata": {
    "collapsed": true
   },
   "outputs": [],
   "source": []
  }
 ],
 "metadata": {
  "kernelspec": {
   "display_name": "Python [default]",
   "language": "python",
   "name": "python3"
  },
  "language_info": {
   "codemirror_mode": {
    "name": "ipython",
    "version": 3
   },
   "file_extension": ".py",
   "mimetype": "text/x-python",
   "name": "python",
   "nbconvert_exporter": "python",
   "pygments_lexer": "ipython3",
   "version": "3.5.2"
  }
 },
 "nbformat": 4,
 "nbformat_minor": 0
}
