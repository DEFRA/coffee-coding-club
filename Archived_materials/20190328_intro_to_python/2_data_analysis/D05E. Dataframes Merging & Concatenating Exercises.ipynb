{
 "cells": [
  {
   "cell_type": "markdown",
   "metadata": {},
   "source": [
    "# D05E: Dataframes Merging & Concatenating Exercises"
   ]
  },
  {
   "cell_type": "markdown",
   "metadata": {},
   "source": [
    "#### Exercise 1: For the dataframes below:\n",
    "\n",
    "1) Concatenate df1 and df 2<br/>\n",
    "2) Merge df1 and df2 using their index<br/>\n",
    "3) Merge df3 and df4 using the key & UID values<br/>\n",
    "4) merge df3 and df4 by setting the key / UID value as the index on both datasets and then merging on that.<br/>\n",
    "5) What happens when you chance the name of 'data 2' in df4 to 'data 1'?<br/>\n",
    "\n"
   ]
  },
  {
   "cell_type": "code",
   "execution_count": null,
   "metadata": {
    "collapsed": false
   },
   "outputs": [],
   "source": [
    "import pandas as pd\n",
    "import numpy as np\n",
    "\n",
    "df1 = pd.DataFrame({'key':np.arange(10),\n",
    "                 'data 1': np.random.random(10)})\n",
    "\n",
    "df = pd.DataFrame({'key':np.arange(10)+10,\n",
    "                 'data 1': np.random.random(10)})\n",
    "\n",
    "\n",
    "df3 = pd.DataFrame({'key':['A1','A2','A3','A3','A4','A5','A6','A7','A8','A8'],\n",
    "                 'data 1': np.arange(10)})\n",
    "\n",
    "df4 = pd.DataFrame({'UID':['A1','A2','A3','A4','A5','A6','A7','A8','A9'],\n",
    "                 'data 2': np.arange(9)+10})"
   ]
  },
  {
   "cell_type": "code",
   "execution_count": null,
   "metadata": {
    "collapsed": false
   },
   "outputs": [],
   "source": []
  },
  {
   "cell_type": "code",
   "execution_count": null,
   "metadata": {
    "collapsed": false
   },
   "outputs": [],
   "source": []
  },
  {
   "cell_type": "code",
   "execution_count": null,
   "metadata": {
    "collapsed": false
   },
   "outputs": [],
   "source": []
  },
  {
   "cell_type": "code",
   "execution_count": null,
   "metadata": {
    "collapsed": false
   },
   "outputs": [],
   "source": []
  },
  {
   "cell_type": "code",
   "execution_count": null,
   "metadata": {
    "collapsed": false
   },
   "outputs": [],
   "source": []
  }
 ],
 "metadata": {
  "kernelspec": {
   "display_name": "Python [default]",
   "language": "python",
   "name": "python3"
  },
  "language_info": {
   "codemirror_mode": {
    "name": "ipython",
    "version": 3
   },
   "file_extension": ".py",
   "mimetype": "text/x-python",
   "name": "python",
   "nbconvert_exporter": "python",
   "pygments_lexer": "ipython3",
   "version": "3.5.2"
  }
 },
 "nbformat": 4,
 "nbformat_minor": 0
}
