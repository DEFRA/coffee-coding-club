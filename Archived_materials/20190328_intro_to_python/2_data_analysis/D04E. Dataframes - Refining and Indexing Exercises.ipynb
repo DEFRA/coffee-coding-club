{
 "cells": [
  {
   "cell_type": "markdown",
   "metadata": {},
   "source": [
    "# D04E: Dataframes - Refining and Indexing Exercises"
   ]
  },
  {
   "cell_type": "markdown",
   "metadata": {},
   "source": [
    "#### Exercise 1: Import the file below and then:\n",
    "\n",
    "1) Drop the Unnamed:0 column<br/>\n",
    "2) Return the columsn list as a new variable<br/>\n",
    "3) Keep only the price, ram, cd and trend columns\n",
    "4) Create new datasets for each of the following where statements:\n",
    "\n",
    "* Where trend greater than 12 and less that or equal to 24\n",
    "* Where ram is either 16 or 32\n",
    "* Where price is greater than 2500 and cd is yes"
   ]
  },
  {
   "cell_type": "code",
   "execution_count": null,
   "metadata": {
    "collapsed": true
   },
   "outputs": [],
   "source": [
    "path = \"https://vincentarelbundock.github.io/Rdatasets/csv/Ecdat/Computers.csv\""
   ]
  },
  {
   "cell_type": "code",
   "execution_count": null,
   "metadata": {
    "collapsed": false
   },
   "outputs": [],
   "source": [
    "import pandas as pd\n",
    "\n"
   ]
  },
  {
   "cell_type": "markdown",
   "metadata": {},
   "source": [
    "#### Exercise 2: Retrieve the records at the following item locations from the base dataset:\n",
    "\n",
    "* 300\n",
    "* 1000-1010\n",
    "* Last 10 records\n",
    "* The middle record"
   ]
  },
  {
   "cell_type": "code",
   "execution_count": null,
   "metadata": {
    "collapsed": false
   },
   "outputs": [],
   "source": []
  },
  {
   "cell_type": "markdown",
   "metadata": {},
   "source": [
    "#### Exercise 3: From the base dataset you imported:\n",
    "* Set the index as the trend column\n",
    "* Drop the name of the index\n",
    "* Create a new a new dataframe for the trend values 1-6\n",
    "* reset the index of this new dataframe\n",
    "* drop any unwanted variables"
   ]
  },
  {
   "cell_type": "code",
   "execution_count": null,
   "metadata": {
    "collapsed": false
   },
   "outputs": [],
   "source": []
  }
 ],
 "metadata": {
  "kernelspec": {
   "display_name": "Python [default]",
   "language": "python",
   "name": "python3"
  },
  "language_info": {
   "codemirror_mode": {
    "name": "ipython",
    "version": 3
   },
   "file_extension": ".py",
   "mimetype": "text/x-python",
   "name": "python",
   "nbconvert_exporter": "python",
   "pygments_lexer": "ipython3",
   "version": "3.5.2"
  }
 },
 "nbformat": 4,
 "nbformat_minor": 0
}
