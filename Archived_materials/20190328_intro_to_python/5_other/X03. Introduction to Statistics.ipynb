{
 "cells": [
  {
   "cell_type": "markdown",
   "metadata": {},
   "source": [
    "# X03: Introduction to Statistics\n",
    "\n",
    "Before we do any analysis or use any advanced techniques like machine learning, it's important to have a grasp of statistics and some of the functions that are available to us within Python. \n",
    "\n",
    "Here we are going to look at:\n",
    "\n",
    "- Item frequency tables\n",
    "- Histograms\n",
    "- Mean, median, standard deviation etc\n",
    "- Skew\n",
    "- p-values\n",
    "- Chi squared\n",
    "\n",
    "Which are just a few of the statistical functions that are available to us in the stats library within scipy.\n",
    "\n",
    "So first we'll load scipy.stats, numpy (so we can use some ot its mathematical functions) and matplotlib (so we can plot our results)"
   ]
  },
  {
   "cell_type": "code",
   "execution_count": 2,
   "metadata": {
    "collapsed": false
   },
   "outputs": [],
   "source": [
    "import scipy.stats as sps\n",
    "import numpy as np\n",
    "import matplotlib.pyplot as plt\n",
    "%matplotlib inline"
   ]
  },
  {
   "cell_type": "markdown",
   "metadata": {},
   "source": [
    "We'll create a random integer uniform distribution, a random normal distribution and a random poisson distribution to look at first of all."
   ]
  },
  {
   "cell_type": "code",
   "execution_count": 3,
   "metadata": {
    "collapsed": false
   },
   "outputs": [],
   "source": [
    "uniform = np.random.random_integers(10,size=10000)\n",
    "normal = np.random.randn(10000)\n",
    "poisson = np.random.poisson(1,10000)"
   ]
  },
  {
   "cell_type": "markdown",
   "metadata": {},
   "source": [
    "We can then create a item frequency table of these distributions using the stats.itemfreq function in scipy"
   ]
  },
  {
   "cell_type": "code",
   "execution_count": 4,
   "metadata": {
    "collapsed": false
   },
   "outputs": [
    {
     "data": {
      "text/plain": [
       "array([[   1, 1010],\n",
       "       [   2,  973],\n",
       "       [   3, 1006],\n",
       "       [   4,  992],\n",
       "       [   5, 1005],\n",
       "       [   6,  966],\n",
       "       [   7, 1028],\n",
       "       [   8,  965],\n",
       "       [   9, 1023],\n",
       "       [  10, 1032]])"
      ]
     },
     "execution_count": 4,
     "metadata": {},
     "output_type": "execute_result"
    }
   ],
   "source": [
    "sps.itemfreq(uniform)"
   ]
  },
  {
   "cell_type": "markdown",
   "metadata": {},
   "source": [
    "This has given us a table of all the numbers in the distribution and the number of times they appear in the array \"uniform\".\n",
    "\n",
    "Another way we can look at these distributions is using a histogram, which we can do within scipy, but we're going to do it straight into matplotlib"
   ]
  },
  {
   "cell_type": "code",
   "execution_count": 9,
   "metadata": {
    "collapsed": false
   },
   "outputs": [
    {
     "data": {
      "image/png": "[encoded data removed]",
      "text/plain": [
       "<matplotlib.figure.Figure at 0x7f5e807b5550>"
      ]
     },
     "metadata": {},
     "output_type": "display_data"
    }
   ],
   "source": [
    "n, bins, patches = plt.hist(normal, bins=50)    #n is the number of items in each bin, bins gives the bin edges"
   ]
  },
  {
   "cell_type": "markdown",
   "metadata": {},
   "source": [
    "Which we can also normalise to 1"
   ]
  },
  {
   "cell_type": "code",
   "execution_count": 10,
   "metadata": {
    "collapsed": false
   },
   "outputs": [
    {
     "data": {
      "image/png": "[encoded data removed]",
      "text/plain": [
       "<matplotlib.figure.Figure at 0x7f5e807bcc18>"
      ]
     },
     "metadata": {},
     "output_type": "display_data"
    }
   ],
   "source": [
    "n, bins, patches = plt.hist(normal, bins=50, normed=True)"
   ]
  },
  {
   "cell_type": "markdown",
   "metadata": {},
   "source": [
    "And plot the cumulative distribution"
   ]
  },
  {
   "cell_type": "code",
   "execution_count": 11,
   "metadata": {
    "collapsed": false
   },
   "outputs": [
    {
     "data": {
      "image/png": "[encoded data removed]",
      "text/plain": [
       "<matplotlib.figure.Figure at 0x7f5e805737f0>"
      ]
     },
     "metadata": {},
     "output_type": "display_data"
    }
   ],
   "source": [
    "n, bins, patches = plt.hist(normal, bins=50, normed=True, cumulative=True)"
   ]
  },
  {
   "cell_type": "markdown",
   "metadata": {},
   "source": [
    "We can also look at some stats of this distribution, such as the mean, the median and the standard deviation using numpy"
   ]
  },
  {
   "cell_type": "code",
   "execution_count": 16,
   "metadata": {
    "collapsed": false
   },
   "outputs": [
    {
     "data": {
      "text/plain": [
       "0.00023238530555500745"
      ]
     },
     "execution_count": 16,
     "metadata": {},
     "output_type": "execute_result"
    }
   ],
   "source": [
    "np.mean(normal)"
   ]
  },
  {
   "cell_type": "code",
   "execution_count": 17,
   "metadata": {
    "collapsed": false
   },
   "outputs": [
    {
     "data": {
      "text/plain": [
       "0.0098224699474755931"
      ]
     },
     "execution_count": 17,
     "metadata": {},
     "output_type": "execute_result"
    }
   ],
   "source": [
    "np.median(normal)"
   ]
  },
  {
   "cell_type": "code",
   "execution_count": 18,
   "metadata": {
    "collapsed": false
   },
   "outputs": [
    {
     "data": {
      "text/plain": [
       "1.0029457351448781"
      ]
     },
     "execution_count": 18,
     "metadata": {},
     "output_type": "execute_result"
    }
   ],
   "source": [
    "np.std(normal)"
   ]
  },
  {
   "cell_type": "markdown",
   "metadata": {},
   "source": [
    "This is one standard deviation, so we'd expect 68% of all of our points to lie within the range \n",
    "\n",
    "mean - std and mean + std\n",
    "\n",
    "If we wanted to know where 95% of all our points lie we would multiply this by two, so the range is \n",
    "\n",
    "mean - 2 x std to mean + 2 x std"
   ]
  },
  {
   "cell_type": "markdown",
   "metadata": {},
   "source": [
    "Using scipy we can find the skew (how assymetric the distribution is)"
   ]
  },
  {
   "cell_type": "code",
   "execution_count": null,
   "metadata": {
    "collapsed": false
   },
   "outputs": [],
   "source": [
    "sps.skew(normal)"
   ]
  },
  {
   "cell_type": "markdown",
   "metadata": {},
   "source": [
    "All these stats quantify what our distribution looks like, but the best way to quantify this is to try to find a generalised function that fits the distribution well. To find out how well our distribution fits we can use variuos measures of goodness of fit, but here we're going to focus on chi^2, which is just calculated using the following equation:"
   ]
  },
  {
   "cell_type": "markdown",
   "metadata": {},
   "source": [
    "$$\\chi^2 = \\Sigma ((data - theory)/(variance))$$"
   ]
  },
  {
   "cell_type": "markdown",
   "metadata": {},
   "source": [
    "Where the variance is std^2. This is the expected error on any measurement, so for a single data point where the data and the theory were within the measurement errors we'd expect chi^2<=1. This means for our 50 bins (data points) above we'd expect chi^2<=50."
   ]
  },
  {
   "cell_type": "markdown",
   "metadata": {},
   "source": [
    "So let's try to fit a normal distribution to our \"normal\" array.\n",
    "\n",
    "First we need to define the type of function we want to fit."
   ]
  },
  {
   "cell_type": "code",
   "execution_count": 13,
   "metadata": {
    "collapsed": true
   },
   "outputs": [],
   "source": [
    "def normalfunction(x, A, mu, sigma):\n",
    "    return A*np.exp(-(x-mu)**2/(2.*sigma**2))"
   ]
  },
  {
   "cell_type": "markdown",
   "metadata": {},
   "source": [
    "Then we need to fit this Gaussian using scipy"
   ]
  },
  {
   "cell_type": "code",
   "execution_count": 40,
   "metadata": {
    "collapsed": false
   },
   "outputs": [
    {
     "data": {
      "text/plain": [
       "[<matplotlib.lines.Line2D at 0x7f5e803bdc18>]"
      ]
     },
     "execution_count": 40,
     "metadata": {},
     "output_type": "execute_result"
    },
    {
     "data": {
      "image/png": "[encoded data removed]",
      "text/plain": [
       "<matplotlib.figure.Figure at 0x7f5e8045df98>"
      ]
     },
     "metadata": {},
     "output_type": "display_data"
    }
   ],
   "source": [
    "from scipy.optimize import curve_fit\n",
    "\n",
    "#Build our histogram again\n",
    "n, bins, patches = plt.hist(normal, bins=50)   \n",
    "#Find our bin centres to use as our x values in the fit\n",
    "bincentres=bins[0:(len(bins)-1)]+np.diff(bins)/2\n",
    "\n",
    "#Fit the normal distribution function we created\n",
    "coefficients, covariance = curve_fit(normalfunction, bincentres, n)\n",
    "#Find the y values of our fitted function\n",
    "fittedFunction = normalfunction(bincentres,coefficients[0],coefficients[1],coefficients[2])  \n",
    "#Plot our fitted function over the top of our histogram to see how it looks\n",
    "plt.plot(bincentres, fittedFunction, 'r--', linewidth=1)"
   ]
  },
  {
   "cell_type": "markdown",
   "metadata": {},
   "source": [
    "Now we can check how good that fit is using chi^2 and the p-value"
   ]
  },
  {
   "cell_type": "code",
   "execution_count": 43,
   "metadata": {
    "collapsed": false
   },
   "outputs": [
    {
     "data": {
      "text/plain": [
       "Power_divergenceResult(statistic=49.642671511145934, pvalue=0.44750267718076958)"
      ]
     },
     "execution_count": 43,
     "metadata": {},
     "output_type": "execute_result"
    }
   ],
   "source": [
    "sps.chisquare(n, fittedFunction) #The statistic quoted is the chi^2"
   ]
  },
  {
   "cell_type": "markdown",
   "metadata": {},
   "source": [
    "An excellent fit!"
   ]
  }
 ],
 "metadata": {
  "kernelspec": {
   "display_name": "Python [default]",
   "language": "python",
   "name": "python3"
  },
  "language_info": {
   "codemirror_mode": {
    "name": "ipython",
    "version": 3
   },
   "file_extension": ".py",
   "mimetype": "text/x-python",
   "name": "python",
   "nbconvert_exporter": "python",
   "pygments_lexer": "ipython3",
   "version": "3.5.2"
  }
 },
 "nbformat": 4,
 "nbformat_minor": 0
}
