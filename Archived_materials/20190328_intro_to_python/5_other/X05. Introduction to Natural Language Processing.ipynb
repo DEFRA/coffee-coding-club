{
 "cells": [
  {
   "cell_type": "markdown",
   "metadata": {},
   "source": [
    "# X05: Introduction to Natural Language Processing"
   ]
  },
  {
   "cell_type": "markdown",
   "metadata": {},
   "source": [
    "Natural Language Processing (NLP) is a way of approaching analysing text data. We won't be delving too much into the nuts and bolts of NLP since it's a massive area worthy of several hours/weeks/years of study depending upon your level of interest. This lesson is adapted from the excellent beginners tutorial available on <a href = \"https://www.kaggle.com/c/word2vec-nlp-tutorial/details/part-1-for-beginners-bag-of-words\">Kaggle</a> however there is a more in depth course available on <a href = \"https://www.coursera.org/course/nlpintro\">Coursera</a> should you wish to explore NLTK further."
   ]
  },
  {
   "cell_type": "markdown",
   "metadata": {},
   "source": [
    "## NLTK"
   ]
  },
  {
   "cell_type": "markdown",
   "metadata": {},
   "source": [
    "We're going to be using a library called <a href = \"www.nltk.org\">NLTK</a> which stands for Natural Language ToolKit. This is included in the Anaconda installation so you don't need to install it via the pip.\n",
    "\n",
    "However you will need to install some data as NLTK comes with a vast array of texts, trained models, grammar modules etc. To bring up the download window you can type:\n",
    "\n",
    "    nltk.download()\n",
    "    \n",
    "into your Jupyter notebook start the NLTK downloader where you can select individual files to download."
   ]
  },
  {
   "cell_type": "markdown",
   "metadata": {},
   "source": [
    "For now we don't need to download anything since we'll be importing data to use. We'll start by importing some libraries as follows:"
   ]
  },
  {
   "cell_type": "code",
   "execution_count": 47,
   "metadata": {
    "collapsed": false
   },
   "outputs": [],
   "source": [
    "import nltk\n",
    "import pandas as pd\n",
    "import numpy as np\n",
    "from bs4 import BeautifulSoup\n",
    "import re\n",
    "\n",
    "from nltk.corpus import stopwords # Import the stop word list"
   ]
  },
  {
   "cell_type": "markdown",
   "metadata": {},
   "source": [
    "We're now going to import our data:"
   ]
  },
  {
   "cell_type": "code",
   "execution_count": 2,
   "metadata": {
    "collapsed": true
   },
   "outputs": [],
   "source": [
    "# Defining Variables\n",
    "\n",
    "path = 'C:\\\\Users\\\\owner\\\\Google Drive\\\\DfT Data Science\\\\Projects\\\\P018 - NLP Training\\\\'\n",
    "\n",
    "l_train = 'labeledTrainData.tsv'        # Labeled training set\n",
    "u_train = 'unlabeledTrainData.tsv'      # Unlabelled training set\n",
    "test = 'testData.tsv'                   # Test set\n",
    "sample = 'sampleSubmission.csv'         # Sample data"
   ]
  },
  {
   "cell_type": "code",
   "execution_count": 3,
   "metadata": {
    "collapsed": false
   },
   "outputs": [],
   "source": [
    "# Importing the data\n",
    "\n",
    "df_ltrain = pd.read_csv(path+l_train, header=0,delimiter=\"\\t\", quoting=3)  # Labelled Training data\n",
    "df_utrain = pd.read_csv(path+u_train, header=0,delimiter=\"\\t\", quoting=3)  # Unlabelled Training data\n",
    "df_test = pd.read_csv(path+test, header=0,delimiter=\"\\t\", quoting=3)       # Test data"
   ]
  },
  {
   "cell_type": "markdown",
   "metadata": {},
   "source": [
    "Note that the \n",
    "    quoting = 3\n",
    "option tells Python to ignore double quotes. This option comes in handy when parsing text data. \n",
    "\n",
    "Also note that the files are .tsv files. This stands for 'Tab Separated Values'. These files work in a similar manner to .csv files that most of you should be familiar with, however when working with text data, commas will appear quite often so we're using the tab as a separator instead."
   ]
  },
  {
   "cell_type": "markdown",
   "metadata": {
    "collapsed": false
   },
   "source": [
    "## Part 1: Data Cleaning"
   ]
  },
  {
   "cell_type": "markdown",
   "metadata": {},
   "source": [
    "Before we can start to process the data, we must first clean it up so it's in a state to be processed. This means:\n",
    "\n",
    "* Removing the html markup\n",
    "* Removing punctuation\n",
    "* Making all text lower case\n",
    "* Removing stop words\n",
    "\n",
    "As we have several datasets of thousands of rows each, we'll take a single review and process this first before 'scaling up' our code to apply to the dataframes we've created:"
   ]
  },
  {
   "cell_type": "code",
   "execution_count": 4,
   "metadata": {
    "collapsed": false
   },
   "outputs": [
    {
     "data": {
      "text/plain": [
       "'\"With all this stuff going down at the moment with MJ i\\'ve started listening to his music, watching the odd documentary here and there, watched The Wiz and watched Moonwalker again. Maybe i just want to get a certain insight into this guy who i thought was really cool in the eighties just to maybe make up my mind whether he is guilty or innocent. Moonwalker is part biography, part feature film which i remember going to see at the cinema when it was originally released. Some of it has subtle messages about MJ\\'s feeling towards the press and also the obvious message of drugs are bad m\\'kay.<br /><br />Visually impressive but of course this is all about Michael Jackson so unless you remotely like MJ in anyway then you are going to hate this and find it boring. Some may call MJ an egotist for consenting to the making of this movie BUT MJ and most of his fans would say that he made it for the fans which if true is really nice of him.<br /><br />The actual feature film bit when it finally starts is only on for 20 minutes or so excluding the Smooth Criminal sequence and Joe Pesci is convincing as a psychopathic all powerful drug lord. Why he wants MJ dead so bad is beyond me. Because MJ overheard his plans? Nah, Joe Pesci\\'s character ranted that he wanted people to know it is he who is supplying drugs etc so i dunno, maybe he just hates MJ\\'s music.<br /><br />Lots of cool things in this like MJ turning into a car and a robot and the whole Speed Demon sequence. Also, the director must have had the patience of a saint when it came to filming the kiddy Bad sequence as usually directors hate working with one kid let alone a whole bunch of them performing a complex dance scene.<br /><br />Bottom line, this movie is for people who like MJ on one level or another (which i think is most people). If not, then stay away. It does try and give off a wholesome message and ironically MJ\\'s bestest buddy in this movie is a girl! Michael Jackson is truly one of the most talented people ever to grace this planet but is he guilty? Well, with all the attention i\\'ve gave this subject....hmmm well i don\\'t know because people can be different behind closed doors, i know this for a fact. He is either an extremely nice but stupid guy or one of the most sickest liars. I hope he is not the latter.\"'"
      ]
     },
     "execution_count": 4,
     "metadata": {},
     "output_type": "execute_result"
    }
   ],
   "source": [
    "review = df_ltrain.iloc[0]['review']\n",
    "review"
   ]
  },
  {
   "cell_type": "markdown",
   "metadata": {},
   "source": [
    "We can firstly remove the html markup using Beautiful Soup:"
   ]
  },
  {
   "cell_type": "code",
   "execution_count": 66,
   "metadata": {
    "collapsed": false
   },
   "outputs": [
    {
     "data": {
      "text/plain": [
       "'\"With all this stuff going down at the moment with MJ i\\'ve started listening to his music, watching the odd documentary here and there, watched The Wiz and watched Moonwalker again. Maybe i just want to get a certain insight into this guy who i thought was really cool in the eighties just to maybe make up my mind whether he is guilty or innocent. Moonwalker is part biography, part feature film which i remember going to see at the cinema when it was originally released. Some of it has subtle messages about MJ\\'s feeling towards the press and also the obvious message of drugs are bad m\\'kay.Visually impressive but of course this is all about Michael Jackson so unless you remotely like MJ in anyway then you are going to hate this and find it boring. Some may call MJ an egotist for consenting to the making of this movie BUT MJ and most of his fans would say that he made it for the fans which if true is really nice of him.The actual feature film bit when it finally starts is only on for 20 minutes or so excluding the Smooth Criminal sequence and Joe Pesci is convincing as a psychopathic all powerful drug lord. Why he wants MJ dead so bad is beyond me. Because MJ overheard his plans? Nah, Joe Pesci\\'s character ranted that he wanted people to know it is he who is supplying drugs etc so i dunno, maybe he just hates MJ\\'s music.Lots of cool things in this like MJ turning into a car and a robot and the whole Speed Demon sequence. Also, the director must have had the patience of a saint when it came to filming the kiddy Bad sequence as usually directors hate working with one kid let alone a whole bunch of them performing a complex dance scene.Bottom line, this movie is for people who like MJ on one level or another (which i think is most people). If not, then stay away. It does try and give off a wholesome message and ironically MJ\\'s bestest buddy in this movie is a girl! Michael Jackson is truly one of the most talented people ever to grace this planet but is he guilty? Well, with all the attention i\\'ve gave this subject....hmmm well i don\\'t know because people can be different behind closed doors, i know this for a fact. He is either an extremely nice but stupid guy or one of the most sickest liars. I hope he is not the latter.\"'"
      ]
     },
     "execution_count": 66,
     "metadata": {},
     "output_type": "execute_result"
    }
   ],
   "source": [
    "review = BeautifulSoup(review,'lxml').get_text()\n",
    "review"
   ]
  },
  {
   "cell_type": "markdown",
   "metadata": {},
   "source": [
    "Then we can remove the punctuation using a Regular Expression. Regular Expressions are a lot like Find and Replace in traditional programs, in that they can find strings, characters etc. and replace them with an alternative. We can use the re built in library in conjunction with the .sub() (substitute) method to do this as follows:"
   ]
  },
  {
   "cell_type": "code",
   "execution_count": 5,
   "metadata": {
    "collapsed": false
   },
   "outputs": [
    {
     "data": {
      "text/plain": [
       "' With all this stuff going down at the moment with MJ i ve started listening to his music  watching the odd documentary here and there  watched The Wiz and watched Moonwalker again  Maybe i just want to get a certain insight into this guy who i thought was really cool in the eighties just to maybe make up my mind whether he is guilty or innocent  Moonwalker is part biography  part feature film which i remember going to see at the cinema when it was originally released  Some of it has subtle messages about MJ s feeling towards the press and also the obvious message of drugs are bad m kay  br    br   Visually impressive but of course this is all about Michael Jackson so unless you remotely like MJ in anyway then you are going to hate this and find it boring  Some may call MJ an egotist for consenting to the making of this movie BUT MJ and most of his fans would say that he made it for the fans which if true is really nice of him  br    br   The actual feature film bit when it finally starts is only on for    minutes or so excluding the Smooth Criminal sequence and Joe Pesci is convincing as a psychopathic all powerful drug lord  Why he wants MJ dead so bad is beyond me  Because MJ overheard his plans  Nah  Joe Pesci s character ranted that he wanted people to know it is he who is supplying drugs etc so i dunno  maybe he just hates MJ s music  br    br   Lots of cool things in this like MJ turning into a car and a robot and the whole Speed Demon sequence  Also  the director must have had the patience of a saint when it came to filming the kiddy Bad sequence as usually directors hate working with one kid let alone a whole bunch of them performing a complex dance scene  br    br   Bottom line  this movie is for people who like MJ on one level or another  which i think is most people   If not  then stay away  It does try and give off a wholesome message and ironically MJ s bestest buddy in this movie is a girl  Michael Jackson is truly one of the most talented people ever to grace this planet but is he guilty  Well  with all the attention i ve gave this subject    hmmm well i don t know because people can be different behind closed doors  i know this for a fact  He is either an extremely nice but stupid guy or one of the most sickest liars  I hope he is not the latter  '"
      ]
     },
     "execution_count": 5,
     "metadata": {},
     "output_type": "execute_result"
    }
   ],
   "source": [
    "review = re.sub(\"[^a-zA-Z]\",   # Find anything not in (aka ^) a-z or A-Z\n",
    "                \" \",           # Replace it with a blank\n",
    "                review)        # The object to perform the action on\n",
    "review"
   ]
  },
  {
   "cell_type": "markdown",
   "metadata": {},
   "source": [
    "We can then replace upper case text with lower case text using the lower() method:"
   ]
  },
  {
   "cell_type": "code",
   "execution_count": 68,
   "metadata": {
    "collapsed": false
   },
   "outputs": [
    {
     "data": {
      "text/plain": [
       "' with all this stuff going down at the moment with mj i ve started listening to his music  watching the odd documentary here and there  watched the wiz and watched moonwalker again  maybe i just want to get a certain insight into this guy who i thought was really cool in the eighties just to maybe make up my mind whether he is guilty or innocent  moonwalker is part biography  part feature film which i remember going to see at the cinema when it was originally released  some of it has subtle messages about mj s feeling towards the press and also the obvious message of drugs are bad m kay visually impressive but of course this is all about michael jackson so unless you remotely like mj in anyway then you are going to hate this and find it boring  some may call mj an egotist for consenting to the making of this movie but mj and most of his fans would say that he made it for the fans which if true is really nice of him the actual feature film bit when it finally starts is only on for    minutes or so excluding the smooth criminal sequence and joe pesci is convincing as a psychopathic all powerful drug lord  why he wants mj dead so bad is beyond me  because mj overheard his plans  nah  joe pesci s character ranted that he wanted people to know it is he who is supplying drugs etc so i dunno  maybe he just hates mj s music lots of cool things in this like mj turning into a car and a robot and the whole speed demon sequence  also  the director must have had the patience of a saint when it came to filming the kiddy bad sequence as usually directors hate working with one kid let alone a whole bunch of them performing a complex dance scene bottom line  this movie is for people who like mj on one level or another  which i think is most people   if not  then stay away  it does try and give off a wholesome message and ironically mj s bestest buddy in this movie is a girl  michael jackson is truly one of the most talented people ever to grace this planet but is he guilty  well  with all the attention i ve gave this subject    hmmm well i don t know because people can be different behind closed doors  i know this for a fact  he is either an extremely nice but stupid guy or one of the most sickest liars  i hope he is not the latter  '"
      ]
     },
     "execution_count": 68,
     "metadata": {},
     "output_type": "execute_result"
    }
   ],
   "source": [
    "review = review.lower()\n",
    "review"
   ]
  },
  {
   "cell_type": "markdown",
   "metadata": {},
   "source": [
    "Next we need to remove Stopwords. These are words with little meaning such as 'a', 'I', 'the' etc. We can do this with NLTKs stopwords library and a list comprehension as follows:"
   ]
  },
  {
   "cell_type": "code",
   "execution_count": 26,
   "metadata": {
    "collapsed": false
   },
   "outputs": [
    {
     "data": {
      "text/plain": [
       "['With stuff going moment MJ started listening music watching odd documentary watched The Wiz watched Moonwalker Maybe want get certain insight guy thought really cool eighties maybe make mind whether guilty innocent Moonwalker part biography part feature film remember going see cinema originally released Some subtle messages MJ feeling towards press also obvious message drugs bad kay br br Visually impressive course Michael Jackson unless remotely like MJ anyway going hate find boring Some may call MJ egotist consenting making movie BUT MJ fans would say made fans true really nice br br The actual feature film bit finally starts minutes excluding Smooth Criminal sequence Joe Pesci convincing psychopathic powerful drug lord Why wants MJ dead bad beyond Because MJ overheard plans Nah Joe Pesci character ranted wanted people know supplying drugs etc dunno maybe hates MJ music br br Lots cool things like MJ turning car robot whole Speed Demon sequence Also director must patience saint came filming kiddy Bad sequence usually directors hate working one kid let alone whole bunch performing complex dance scene br br Bottom line movie people like MJ one level another think people If stay away It try give wholesome message ironically MJ bestest buddy movie girl Michael Jackson truly one talented people ever grace planet guilty Well attention gave subject hmmm well know people different behind closed doors know fact He either extremely nice stupid guy one sickest liars I hope latter']"
      ]
     },
     "execution_count": 26,
     "metadata": {},
     "output_type": "execute_result"
    }
   ],
   "source": [
    "stops = set(stopwords.words(\"english\"))        # Creating a set as sets are more efficient than lists\n",
    "review = review.split()                        # Splitting the text into individual words\n",
    "review = [w for w in review if not w in stops] # Removing the stopwords via a list comprehension\n",
    "review = \" \".join(review)                      # Joining the word list back together with spaces in between the words\n",
    "review = [review]                              # Turning the review into a list\n",
    "review "
   ]
  },
  {
   "cell_type": "markdown",
   "metadata": {},
   "source": [
    "Our data is now ready to process! However we must apply this to all the data we have via a function as follows:"
   ]
  },
  {
   "cell_type": "code",
   "execution_count": 56,
   "metadata": {
    "collapsed": false
   },
   "outputs": [],
   "source": [
    "# Function to clean the data up\n",
    "\n",
    "stops = set(stopwords.words(\"english\"))     # Because sets are quicker than lists!\n",
    "\n",
    "def cleaner(row):\n",
    "    review = re.sub(\"[^a-zA-Z]\",                         \n",
    "                    \" \",              \n",
    "                    BeautifulSoup(row[\"review\"],'lxml').get_text().lower() )\n",
    "    review = review.split()\n",
    "    review = [w for w in review if not w in stops]\n",
    "    review = ( \" \".join(review))   \n",
    "    return review\n",
    "\n",
    "df_ltrain[\"clean text\"] = df_ltrain.apply(cleaner,axis=1)\n",
    "df_utrain[\"clean text\"] = df_utrain.apply(cleaner,axis=1)\n",
    "df_test[\"clean text\"]   = df_test.apply(cleaner,axis=1)"
   ]
  },
  {
   "cell_type": "code",
   "execution_count": 58,
   "metadata": {
    "collapsed": false
   },
   "outputs": [
    {
     "data": {
      "text/html": [
       "<div>\n",
       "<table border=\"1\" class=\"dataframe\">\n",
       "  <thead>\n",
       "    <tr style=\"text-align: right;\">\n",
       "      <th></th>\n",
       "      <th>id</th>\n",
       "      <th>sentiment</th>\n",
       "      <th>review</th>\n",
       "      <th>clean text</th>\n",
       "    </tr>\n",
       "  </thead>\n",
       "  <tbody>\n",
       "    <tr>\n",
       "      <th>0</th>\n",
       "      <td>\"5814_8\"</td>\n",
       "      <td>1</td>\n",
       "      <td>\"With all this stuff going down at the moment ...</td>\n",
       "      <td>stuff going moment mj started listening music ...</td>\n",
       "    </tr>\n",
       "    <tr>\n",
       "      <th>1</th>\n",
       "      <td>\"2381_9\"</td>\n",
       "      <td>1</td>\n",
       "      <td>\"\\\"The Classic War of the Worlds\\\" by Timothy ...</td>\n",
       "      <td>classic war worlds timothy hines entertaining ...</td>\n",
       "    </tr>\n",
       "    <tr>\n",
       "      <th>2</th>\n",
       "      <td>\"7759_3\"</td>\n",
       "      <td>0</td>\n",
       "      <td>\"The film starts with a manager (Nicholas Bell...</td>\n",
       "      <td>film starts manager nicholas bell giving welco...</td>\n",
       "    </tr>\n",
       "    <tr>\n",
       "      <th>3</th>\n",
       "      <td>\"3630_4\"</td>\n",
       "      <td>0</td>\n",
       "      <td>\"It must be assumed that those who praised thi...</td>\n",
       "      <td>must assumed praised film greatest filmed oper...</td>\n",
       "    </tr>\n",
       "    <tr>\n",
       "      <th>4</th>\n",
       "      <td>\"9495_8\"</td>\n",
       "      <td>1</td>\n",
       "      <td>\"Superbly trashy and wondrously unpretentious ...</td>\n",
       "      <td>superbly trashy wondrously unpretentious explo...</td>\n",
       "    </tr>\n",
       "  </tbody>\n",
       "</table>\n",
       "</div>"
      ],
      "text/plain": [
       "         id  sentiment                                             review  \\\n",
       "0  \"5814_8\"          1  \"With all this stuff going down at the moment ...   \n",
       "1  \"2381_9\"          1  \"\\\"The Classic War of the Worlds\\\" by Timothy ...   \n",
       "2  \"7759_3\"          0  \"The film starts with a manager (Nicholas Bell...   \n",
       "3  \"3630_4\"          0  \"It must be assumed that those who praised thi...   \n",
       "4  \"9495_8\"          1  \"Superbly trashy and wondrously unpretentious ...   \n",
       "\n",
       "                                          clean text  \n",
       "0  stuff going moment mj started listening music ...  \n",
       "1  classic war worlds timothy hines entertaining ...  \n",
       "2  film starts manager nicholas bell giving welco...  \n",
       "3  must assumed praised film greatest filmed oper...  \n",
       "4  superbly trashy wondrously unpretentious explo...  "
      ]
     },
     "execution_count": 58,
     "metadata": {},
     "output_type": "execute_result"
    }
   ],
   "source": [
    "df_ltrain.head(5)"
   ]
  },
  {
   "cell_type": "markdown",
   "metadata": {
    "collapsed": true
   },
   "source": [
    "## Part 2: Bag of Words"
   ]
  },
  {
   "cell_type": "markdown",
   "metadata": {},
   "source": [
    "Now that we've cleaned our data up, we can create our bag of words\n",
    "\n",
    "The Bag of Words model learns a vocabulary from all of the documents, then models each document by counting the number of times each word appears. For example, consider the following two sentences:\n",
    "\n",
    "* Sentence 1: \"The cat sat on the hat\"\n",
    "\n",
    "* Sentence 2: \"The dog ate the cat and the hat\"\n",
    "\n",
    "From these two sentences, our vocabulary is as follows:\n",
    "\n",
    "* { the, cat, sat, on, hat, dog, ate, and }\n",
    "\n",
    "To get our bags of words, we count the number of times each word occurs in each sentence. In Sentence 1, \"the\" appears twice, and \"cat\", \"sat\", \"on\", and \"hat\" each appear once, so the feature vector for Sentence 1 is:\n",
    "\n",
    "* { the, cat, sat, on, hat, dog, ate, and }\n",
    "* Sentence 1: { 2, 1, 1, 1, 1, 0, 0, 0 }\n",
    "\n",
    "Similarly, the features for Sentence 2 are: { 3, 1, 0, 0, 1, 1, 1, 1}"
   ]
  },
  {
   "cell_type": "markdown",
   "metadata": {},
   "source": [
    "## Making the bag of words"
   ]
  },
  {
   "cell_type": "markdown",
   "metadata": {},
   "source": [
    "Making a Bag of Words in Python is accompished using the Scikit-learn library. In this example we're going to be limiting the number of words to 5000 both due to processing time and also the danger of overfitting.\n",
    "\n",
    "The code for this is as follows:"
   ]
  },
  {
   "cell_type": "code",
   "execution_count": 84,
   "metadata": {
    "collapsed": false
   },
   "outputs": [],
   "source": [
    "from sklearn.feature_extraction.text import CountVectorizer\n",
    "\n",
    "vectorizer = CountVectorizer(analyzer = \"word\",   \n",
    "                             tokenizer = None,    \n",
    "                             preprocessor = None, \n",
    "                             stop_words = None,   \n",
    "                             max_features = 5000)      # Creating the Bag of Words\n",
    "\n",
    "ltrain = df_ltrain[\"clean text\"].tolist()              # Converting the features column to a list\n",
    "ltrain_features = vectorizer.fit_transform(ltrain)     # Fitting the training data to our model\n",
    "ltrain_features = ltrain_features.toarray()            # Converting the test data to an array"
   ]
  },
  {
   "cell_type": "markdown",
   "metadata": {},
   "source": [
    "## Decision Trees & Random Forests"
   ]
  },
  {
   "cell_type": "markdown",
   "metadata": {},
   "source": [
    "Now we have our bag of words, we're going to do some supervised learning with a Random Forest, which is essentially a type of Decision Tree.\n",
    "\n",
    "Tom is at Blockbuster deciding on a film to rent and has invited Emma along to help him decide which one to watch. Emma begins by asking Tom for a list of films he has previously enjoyed (a training dataset). \n",
    "\n",
    "Tom them picks up a film and Emma asks him a series of questions such as 'What genre of film is it?' , 'Which actors & actresses are in it' and 'Who directed it?' and cross references this with the list he has given her before giving him a yes or no reccomendation as to whether he will enjoy the film (classifying the test dataset).\n",
    "\n",
    "In this example Emma is a <b>Decision Tree</b>.\n",
    "\n",
    "However Emma is just one person and her questions may lean towards on aspects that actually Tom doesn't care about (overfitting).\n",
    "\n",
    "So to get a better idea Tom invites Rupesh, Kathryn, Will and Howard to Blockbuster and has them repeat the process. Each gives their answer and Tom decides based upon the majority opinion (an ensemble classifier).\n",
    "\n",
    "But what if Emma, Rupesh, Kathryn, Will and Howard have the exact same process for asking and answering questions and therefore give him similar answers? To get around this Tom decides to randomly select films to give to each of his friends to avoid getting the same list of answers.\n",
    "\n",
    "There is also the danger of spurious connections. For example, two of the films on Tom's favoutites list are The Breakfast Club and Predator. He likes the Breakfast Club because it's coming-of-age comedy/drama starring several 'Brat Pack' members, but he likes Predator because it is a sci-fi film starring Arnold Schwarzenegger. However, one thing connecting these films is that they were both made in the 1980s. As such his friends may ask which year the film was made and conclude that Tom likes these films because they were made in the 1980s and reccomend he watch Footloose, something which he has no inclination to watch!\n",
    "\n",
    "To fix this, Tom decides to make his friends randomly choose which questions to ask.\n",
    "\n",
    "This introduces randomness to both the sampling process (giving each of his friends a random list of films) and the model (by making them ask a random question).\n",
    "\n",
    "This process is known as a <b>Random Forest</b>."
   ]
  },
  {
   "cell_type": "markdown",
   "metadata": {},
   "source": [
    "### For example:\n",
    "    \n",
    "Tom randomly selects a list of films he likes and gives it to each of his friends:\n",
    "    \n",
    "Emma: I like Predator, The Breakfast Club, Shawshank Redemption, Wall-E, Blade Runner\n",
    "Rupesh: I like Predator, Shawshank Redemption, Aliens, How to Train Your Dragon, The Dark Knight\n",
    "Kathryn: I like The Breakfast Club, Terminator 2, Inception, Whiplash, Shawshank Redemption\n",
    "Will: I like Mystery Men, Aliens, Wall-E, Shawshank Redemption, Fight Club\n",
    "Howard: I like Predator, How to Train Your Dragon, Kindergarden Cop, Aliens, Die Hard\n",
    "    \n",
    "Tom then picks up Total Recall and gets his friends then ask him random questions from their list to determine whether he will like it:\n",
    "\n",
    "Emma: ['What year was Predator made?', 'Who directed Predator', 'Is it a Rom-com?' ....], ['When did you first watch the Breakfast Club?','Is it a cartoon?', 'Did you watch it at the cinema?']... <br/>\n",
    "Rupesh: ['Who is the lead actor in Predator?' , 'Is it an animated film?', 'Is it a Sci-fi film?' ...], ['Who wrote the Shawshank Redemption?', 'Is it based on a True Story?','Is it an ensemble cast?']...<br/>\n",
    "Kathryn: ['When was the Breakfast club made?' , 'What was it's budget?', 'Was it considered a box office success?'...], ['Who Directed Mystery Men?', 'What was it's budget?', 'Who is the lead actor / actress?']... <br/>\n",
    "\n",
    "... and so on.\n",
    "\n",
    "Based upon Tom's list of films, and the list of questions his friends will each give him a yes / no answer as to whether he will like Total Recall."
   ]
  },
  {
   "cell_type": "markdown",
   "metadata": {},
   "source": [
    "## Information Gain & Entropy"
   ]
  },
  {
   "cell_type": "markdown",
   "metadata": {},
   "source": [
    "In order to pick which feature to split on, we need a way of measuring how good the split is. This is where information gain and entropy come in.\n",
    "\n",
    "We would like to choose questions that give a lot of information about the tree’s prediction. For example, if there is a single yes/no question that accurately predicts the outputs 99% of the time, then that question allows us to “gain” a lot of information about our data. In order to measure how much information we gain, we introduce entropy which is a measure of uncertainty associated with our data. We can intuitively think that if a data set had only one label then we have a low entropy. So we would like to split our data in a way that minimizes the entropy. The better the splits, the better our prediction will be."
   ]
  },
  {
   "cell_type": "markdown",
   "metadata": {},
   "source": [
    "## Random Forests in Scikit-Learn"
   ]
  },
  {
   "cell_type": "markdown",
   "metadata": {},
   "source": [
    "Coding these concepts from scratch would be a laborious and time consuming job. Fortunately this is all built into Scikit-learn's RandomForestClassifier library and you can create a Random Forest model very simply:"
   ]
  },
  {
   "cell_type": "code",
   "execution_count": 61,
   "metadata": {
    "collapsed": true
   },
   "outputs": [],
   "source": [
    "from sklearn.ensemble import RandomForestClassifier\n",
    "\n",
    "forest = RandomForestClassifier(n_estimators = 100)              # Creating a blank Random Forest. n_estimators is the number of trees in the forest\n",
    "forest = forest.fit(ltrain_features, df_ltrain[\"sentiment\"])     # Training the model with our data"
   ]
  },
  {
   "cell_type": "code",
   "execution_count": 68,
   "metadata": {
    "collapsed": false
   },
   "outputs": [],
   "source": [
    "ltest = df_test[\"clean text\"].tolist()                           # Converting the test data column to a list\n",
    "ltest_features = vectorizer.fit_transform(ltest)                 # Fitting the test data to our model\n",
    "ltest_features = ltest_features.toarray()                        # Converting the test data to an array"
   ]
  },
  {
   "cell_type": "code",
   "execution_count": 86,
   "metadata": {
    "collapsed": false
   },
   "outputs": [],
   "source": [
    "result = forest.predict(ltest_features)                          # Running our model\n",
    "\n",
    "df_result = pd.DataFrame(data={\"id\":df_test[\"id\"],\n",
    "                            \"review\":df_test[\"review\"],\n",
    "                            \"sentiment\":result})                 # Transferring the result to a DataFrame"
   ]
  },
  {
   "cell_type": "code",
   "execution_count": 97,
   "metadata": {
    "collapsed": false
   },
   "outputs": [
    {
     "data": {
      "text/html": [
       "<div>\n",
       "<table border=\"1\" class=\"dataframe\">\n",
       "  <thead>\n",
       "    <tr style=\"text-align: right;\">\n",
       "      <th></th>\n",
       "      <th>id</th>\n",
       "      <th>review</th>\n",
       "      <th>sentiment</th>\n",
       "    </tr>\n",
       "  </thead>\n",
       "  <tbody>\n",
       "    <tr>\n",
       "      <th>0</th>\n",
       "      <td>\"12311_10\"</td>\n",
       "      <td>\"Naturally in a film who's main themes are of ...</td>\n",
       "      <td>0</td>\n",
       "    </tr>\n",
       "    <tr>\n",
       "      <th>1</th>\n",
       "      <td>\"8348_2\"</td>\n",
       "      <td>\"This movie is a disaster within a disaster fi...</td>\n",
       "      <td>0</td>\n",
       "    </tr>\n",
       "    <tr>\n",
       "      <th>2</th>\n",
       "      <td>\"5828_4\"</td>\n",
       "      <td>\"All in all, this is a movie for kids. We saw ...</td>\n",
       "      <td>0</td>\n",
       "    </tr>\n",
       "    <tr>\n",
       "      <th>3</th>\n",
       "      <td>\"7186_2\"</td>\n",
       "      <td>\"Afraid of the Dark left me with the impressio...</td>\n",
       "      <td>1</td>\n",
       "    </tr>\n",
       "    <tr>\n",
       "      <th>4</th>\n",
       "      <td>\"12128_7\"</td>\n",
       "      <td>\"A very accurate depiction of small time mob l...</td>\n",
       "      <td>0</td>\n",
       "    </tr>\n",
       "    <tr>\n",
       "      <th>5</th>\n",
       "      <td>\"2913_8\"</td>\n",
       "      <td>\"...as valuable as King Tut's tomb! (OK, maybe...</td>\n",
       "      <td>0</td>\n",
       "    </tr>\n",
       "    <tr>\n",
       "      <th>6</th>\n",
       "      <td>\"4396_1\"</td>\n",
       "      <td>\"This has to be one of the biggest misfires ev...</td>\n",
       "      <td>1</td>\n",
       "    </tr>\n",
       "    <tr>\n",
       "      <th>7</th>\n",
       "      <td>\"395_2\"</td>\n",
       "      <td>\"This is one of those movies I watched, and wo...</td>\n",
       "      <td>1</td>\n",
       "    </tr>\n",
       "    <tr>\n",
       "      <th>8</th>\n",
       "      <td>\"10616_1\"</td>\n",
       "      <td>\"The worst movie i've seen in years (and i've ...</td>\n",
       "      <td>0</td>\n",
       "    </tr>\n",
       "    <tr>\n",
       "      <th>9</th>\n",
       "      <td>\"9074_9\"</td>\n",
       "      <td>\"Five medical students (Kevin Bacon, David Lab...</td>\n",
       "      <td>0</td>\n",
       "    </tr>\n",
       "    <tr>\n",
       "      <th>10</th>\n",
       "      <td>\"9252_3\"</td>\n",
       "      <td>\"'The Mill on the Floss' was one of the lesser...</td>\n",
       "      <td>0</td>\n",
       "    </tr>\n",
       "    <tr>\n",
       "      <th>11</th>\n",
       "      <td>\"9896_9\"</td>\n",
       "      <td>\"I just saw this film at the phoenix film fest...</td>\n",
       "      <td>0</td>\n",
       "    </tr>\n",
       "    <tr>\n",
       "      <th>12</th>\n",
       "      <td>\"574_4\"</td>\n",
       "      <td>\"\\\"The Love Letter\\\" is one of those movies th...</td>\n",
       "      <td>0</td>\n",
       "    </tr>\n",
       "    <tr>\n",
       "      <th>13</th>\n",
       "      <td>\"11182_8\"</td>\n",
       "      <td>\"Another fantastic offering from the Monkey Is...</td>\n",
       "      <td>0</td>\n",
       "    </tr>\n",
       "    <tr>\n",
       "      <th>14</th>\n",
       "      <td>\"11656_4\"</td>\n",
       "      <td>\"This was included on the disk \\\"Shorts: Volum...</td>\n",
       "      <td>0</td>\n",
       "    </tr>\n",
       "    <tr>\n",
       "      <th>15</th>\n",
       "      <td>\"2322_4\"</td>\n",
       "      <td>\"I'm not really much of an Abbott &amp; Costello f...</td>\n",
       "      <td>0</td>\n",
       "    </tr>\n",
       "    <tr>\n",
       "      <th>16</th>\n",
       "      <td>\"8703_1\"</td>\n",
       "      <td>\"This movie was dreadful. Biblically very inac...</td>\n",
       "      <td>1</td>\n",
       "    </tr>\n",
       "    <tr>\n",
       "      <th>17</th>\n",
       "      <td>\"7483_1\"</td>\n",
       "      <td>\"I don't think I've ever gave something a 1/10...</td>\n",
       "      <td>0</td>\n",
       "    </tr>\n",
       "    <tr>\n",
       "      <th>18</th>\n",
       "      <td>\"6007_10\"</td>\n",
       "      <td>\"Excellent story-telling and cinematography. P...</td>\n",
       "      <td>0</td>\n",
       "    </tr>\n",
       "    <tr>\n",
       "      <th>19</th>\n",
       "      <td>\"12424_4\"</td>\n",
       "      <td>\"I completely forgot that I'd seen this within...</td>\n",
       "      <td>0</td>\n",
       "    </tr>\n",
       "    <tr>\n",
       "      <th>20</th>\n",
       "      <td>\"4672_1\"</td>\n",
       "      <td>\"I like action movies. I have a softspot for \\...</td>\n",
       "      <td>0</td>\n",
       "    </tr>\n",
       "    <tr>\n",
       "      <th>21</th>\n",
       "      <td>\"10841_3\"</td>\n",
       "      <td>\"This is one of the worst Sandra Bullock movie...</td>\n",
       "      <td>0</td>\n",
       "    </tr>\n",
       "    <tr>\n",
       "      <th>22</th>\n",
       "      <td>\"8954_7\"</td>\n",
       "      <td>\"Watched this flick on Saturday afternoon cabl...</td>\n",
       "      <td>0</td>\n",
       "    </tr>\n",
       "    <tr>\n",
       "      <th>23</th>\n",
       "      <td>\"7392_1\"</td>\n",
       "      <td>\"I went to see \\\"TKIA\\\" with high expectations...</td>\n",
       "      <td>0</td>\n",
       "    </tr>\n",
       "    <tr>\n",
       "      <th>24</th>\n",
       "      <td>\"10288_8\"</td>\n",
       "      <td>\"All credit to writer/director Gilles Mimouni ...</td>\n",
       "      <td>0</td>\n",
       "    </tr>\n",
       "    <tr>\n",
       "      <th>25</th>\n",
       "      <td>\"5343_4\"</td>\n",
       "      <td>\"As a writing teacher, there are two ending I ...</td>\n",
       "      <td>0</td>\n",
       "    </tr>\n",
       "    <tr>\n",
       "      <th>26</th>\n",
       "      <td>\"4950_1\"</td>\n",
       "      <td>\"I don't know why this has gotten any decent r...</td>\n",
       "      <td>0</td>\n",
       "    </tr>\n",
       "    <tr>\n",
       "      <th>27</th>\n",
       "      <td>\"9257_4\"</td>\n",
       "      <td>\"This film was released in the UK under the na...</td>\n",
       "      <td>0</td>\n",
       "    </tr>\n",
       "    <tr>\n",
       "      <th>28</th>\n",
       "      <td>\"8689_3\"</td>\n",
       "      <td>\"Uncle Fred Olen Ray once again gives us a lit...</td>\n",
       "      <td>0</td>\n",
       "    </tr>\n",
       "    <tr>\n",
       "      <th>29</th>\n",
       "      <td>\"4480_2\"</td>\n",
       "      <td>\"OK, it's watchable if you are sick in bed or ...</td>\n",
       "      <td>0</td>\n",
       "    </tr>\n",
       "    <tr>\n",
       "      <th>...</th>\n",
       "      <td>...</td>\n",
       "      <td>...</td>\n",
       "      <td>...</td>\n",
       "    </tr>\n",
       "    <tr>\n",
       "      <th>24970</th>\n",
       "      <td>\"6857_10\"</td>\n",
       "      <td>\"With \\\"Anatomy\\\" the german film producers ha...</td>\n",
       "      <td>1</td>\n",
       "    </tr>\n",
       "    <tr>\n",
       "      <th>24971</th>\n",
       "      <td>\"11091_8\"</td>\n",
       "      <td>\"This movie is one of my all-time favorites. I...</td>\n",
       "      <td>1</td>\n",
       "    </tr>\n",
       "    <tr>\n",
       "      <th>24972</th>\n",
       "      <td>\"4167_2\"</td>\n",
       "      <td>\"I found Code 46 very disappointing. I thought...</td>\n",
       "      <td>1</td>\n",
       "    </tr>\n",
       "    <tr>\n",
       "      <th>24973</th>\n",
       "      <td>\"679_4\"</td>\n",
       "      <td>\"Tamara Anderson and her family are moving onc...</td>\n",
       "      <td>0</td>\n",
       "    </tr>\n",
       "    <tr>\n",
       "      <th>24974</th>\n",
       "      <td>\"10147_1\"</td>\n",
       "      <td>\"Now I've seen it all. Just when I thought it ...</td>\n",
       "      <td>0</td>\n",
       "    </tr>\n",
       "    <tr>\n",
       "      <th>24975</th>\n",
       "      <td>\"6875_1\"</td>\n",
       "      <td>\"In this movie everything possible was wrong a...</td>\n",
       "      <td>0</td>\n",
       "    </tr>\n",
       "    <tr>\n",
       "      <th>24976</th>\n",
       "      <td>\"923_10\"</td>\n",
       "      <td>\"Well every scene so perfectly presented. Neve...</td>\n",
       "      <td>1</td>\n",
       "    </tr>\n",
       "    <tr>\n",
       "      <th>24977</th>\n",
       "      <td>\"6200_8\"</td>\n",
       "      <td>\"Sleeper Cell is what 24 should have been. 24 ...</td>\n",
       "      <td>0</td>\n",
       "    </tr>\n",
       "    <tr>\n",
       "      <th>24978</th>\n",
       "      <td>\"7208_8\"</td>\n",
       "      <td>\"Not for everyone, but I really like it. Nice ...</td>\n",
       "      <td>1</td>\n",
       "    </tr>\n",
       "    <tr>\n",
       "      <th>24979</th>\n",
       "      <td>\"5363_8\"</td>\n",
       "      <td>\"Set just before the Second World War, this is...</td>\n",
       "      <td>1</td>\n",
       "    </tr>\n",
       "    <tr>\n",
       "      <th>24980</th>\n",
       "      <td>\"4067_8\"</td>\n",
       "      <td>\"Contains Spoiler The movie is a good action/c...</td>\n",
       "      <td>1</td>\n",
       "    </tr>\n",
       "    <tr>\n",
       "      <th>24981</th>\n",
       "      <td>\"1773_7\"</td>\n",
       "      <td>\"This is one of several period sea-faring yarn...</td>\n",
       "      <td>0</td>\n",
       "    </tr>\n",
       "    <tr>\n",
       "      <th>24982</th>\n",
       "      <td>\"1498_10\"</td>\n",
       "      <td>\"Hearkening back to those \\\"Good Old Days\\\" of...</td>\n",
       "      <td>1</td>\n",
       "    </tr>\n",
       "    <tr>\n",
       "      <th>24983</th>\n",
       "      <td>\"10497_10\"</td>\n",
       "      <td>\"I thought this to be a pretty good example of...</td>\n",
       "      <td>0</td>\n",
       "    </tr>\n",
       "    <tr>\n",
       "      <th>24984</th>\n",
       "      <td>\"3444_10\"</td>\n",
       "      <td>\"Seeing this film, or rather set of films, in ...</td>\n",
       "      <td>1</td>\n",
       "    </tr>\n",
       "    <tr>\n",
       "      <th>24985</th>\n",
       "      <td>\"588_2\"</td>\n",
       "      <td>\"I didn't like this movie for many reasons - V...</td>\n",
       "      <td>1</td>\n",
       "    </tr>\n",
       "    <tr>\n",
       "      <th>24986</th>\n",
       "      <td>\"9678_9\"</td>\n",
       "      <td>\"I absolutely love this show!!!!!!!, Its basic...</td>\n",
       "      <td>1</td>\n",
       "    </tr>\n",
       "    <tr>\n",
       "      <th>24987</th>\n",
       "      <td>\"1983_9\"</td>\n",
       "      <td>\"eXistenZ combines director David Cronenberg's...</td>\n",
       "      <td>0</td>\n",
       "    </tr>\n",
       "    <tr>\n",
       "      <th>24988</th>\n",
       "      <td>\"5012_3\"</td>\n",
       "      <td>\"this movie is allegedly a comedy.so where did...</td>\n",
       "      <td>1</td>\n",
       "    </tr>\n",
       "    <tr>\n",
       "      <th>24989</th>\n",
       "      <td>\"12240_2\"</td>\n",
       "      <td>\"The Comebacks is a spoof on inspirational spo...</td>\n",
       "      <td>0</td>\n",
       "    </tr>\n",
       "    <tr>\n",
       "      <th>24990</th>\n",
       "      <td>\"5071_2\"</td>\n",
       "      <td>\"I'd love to write a little summary of this mo...</td>\n",
       "      <td>0</td>\n",
       "    </tr>\n",
       "    <tr>\n",
       "      <th>24991</th>\n",
       "      <td>\"5078_2\"</td>\n",
       "      <td>\"Obvious tailored vehicle for Ryan Philippe. I...</td>\n",
       "      <td>0</td>\n",
       "    </tr>\n",
       "    <tr>\n",
       "      <th>24992</th>\n",
       "      <td>\"10069_3\"</td>\n",
       "      <td>\"&lt;br /&gt;&lt;br /&gt;JURASSIC PARK III *___ Adventure ...</td>\n",
       "      <td>0</td>\n",
       "    </tr>\n",
       "    <tr>\n",
       "      <th>24993</th>\n",
       "      <td>\"7407_8\"</td>\n",
       "      <td>\"If you're even mildly interested in the War b...</td>\n",
       "      <td>1</td>\n",
       "    </tr>\n",
       "    <tr>\n",
       "      <th>24994</th>\n",
       "      <td>\"7207_1\"</td>\n",
       "      <td>\"It used to be that video distributors like Su...</td>\n",
       "      <td>0</td>\n",
       "    </tr>\n",
       "    <tr>\n",
       "      <th>24995</th>\n",
       "      <td>\"2155_10\"</td>\n",
       "      <td>\"Sony Pictures Classics, I'm looking at you! S...</td>\n",
       "      <td>0</td>\n",
       "    </tr>\n",
       "    <tr>\n",
       "      <th>24996</th>\n",
       "      <td>\"59_10\"</td>\n",
       "      <td>\"I always felt that Ms. Merkerson had never go...</td>\n",
       "      <td>1</td>\n",
       "    </tr>\n",
       "    <tr>\n",
       "      <th>24997</th>\n",
       "      <td>\"2531_1\"</td>\n",
       "      <td>\"I was so disappointed in this movie. I am ver...</td>\n",
       "      <td>0</td>\n",
       "    </tr>\n",
       "    <tr>\n",
       "      <th>24998</th>\n",
       "      <td>\"7772_8\"</td>\n",
       "      <td>\"From the opening sequence, filled with black ...</td>\n",
       "      <td>0</td>\n",
       "    </tr>\n",
       "    <tr>\n",
       "      <th>24999</th>\n",
       "      <td>\"11465_10\"</td>\n",
       "      <td>\"This is a great horror film for people who do...</td>\n",
       "      <td>0</td>\n",
       "    </tr>\n",
       "  </tbody>\n",
       "</table>\n",
       "<p>25000 rows × 3 columns</p>\n",
       "</div>"
      ],
      "text/plain": [
       "               id                                             review  \\\n",
       "0      \"12311_10\"  \"Naturally in a film who's main themes are of ...   \n",
       "1        \"8348_2\"  \"This movie is a disaster within a disaster fi...   \n",
       "2        \"5828_4\"  \"All in all, this is a movie for kids. We saw ...   \n",
       "3        \"7186_2\"  \"Afraid of the Dark left me with the impressio...   \n",
       "4       \"12128_7\"  \"A very accurate depiction of small time mob l...   \n",
       "5        \"2913_8\"  \"...as valuable as King Tut's tomb! (OK, maybe...   \n",
       "6        \"4396_1\"  \"This has to be one of the biggest misfires ev...   \n",
       "7         \"395_2\"  \"This is one of those movies I watched, and wo...   \n",
       "8       \"10616_1\"  \"The worst movie i've seen in years (and i've ...   \n",
       "9        \"9074_9\"  \"Five medical students (Kevin Bacon, David Lab...   \n",
       "10       \"9252_3\"  \"'The Mill on the Floss' was one of the lesser...   \n",
       "11       \"9896_9\"  \"I just saw this film at the phoenix film fest...   \n",
       "12        \"574_4\"  \"\\\"The Love Letter\\\" is one of those movies th...   \n",
       "13      \"11182_8\"  \"Another fantastic offering from the Monkey Is...   \n",
       "14      \"11656_4\"  \"This was included on the disk \\\"Shorts: Volum...   \n",
       "15       \"2322_4\"  \"I'm not really much of an Abbott & Costello f...   \n",
       "16       \"8703_1\"  \"This movie was dreadful. Biblically very inac...   \n",
       "17       \"7483_1\"  \"I don't think I've ever gave something a 1/10...   \n",
       "18      \"6007_10\"  \"Excellent story-telling and cinematography. P...   \n",
       "19      \"12424_4\"  \"I completely forgot that I'd seen this within...   \n",
       "20       \"4672_1\"  \"I like action movies. I have a softspot for \\...   \n",
       "21      \"10841_3\"  \"This is one of the worst Sandra Bullock movie...   \n",
       "22       \"8954_7\"  \"Watched this flick on Saturday afternoon cabl...   \n",
       "23       \"7392_1\"  \"I went to see \\\"TKIA\\\" with high expectations...   \n",
       "24      \"10288_8\"  \"All credit to writer/director Gilles Mimouni ...   \n",
       "25       \"5343_4\"  \"As a writing teacher, there are two ending I ...   \n",
       "26       \"4950_1\"  \"I don't know why this has gotten any decent r...   \n",
       "27       \"9257_4\"  \"This film was released in the UK under the na...   \n",
       "28       \"8689_3\"  \"Uncle Fred Olen Ray once again gives us a lit...   \n",
       "29       \"4480_2\"  \"OK, it's watchable if you are sick in bed or ...   \n",
       "...           ...                                                ...   \n",
       "24970   \"6857_10\"  \"With \\\"Anatomy\\\" the german film producers ha...   \n",
       "24971   \"11091_8\"  \"This movie is one of my all-time favorites. I...   \n",
       "24972    \"4167_2\"  \"I found Code 46 very disappointing. I thought...   \n",
       "24973     \"679_4\"  \"Tamara Anderson and her family are moving onc...   \n",
       "24974   \"10147_1\"  \"Now I've seen it all. Just when I thought it ...   \n",
       "24975    \"6875_1\"  \"In this movie everything possible was wrong a...   \n",
       "24976    \"923_10\"  \"Well every scene so perfectly presented. Neve...   \n",
       "24977    \"6200_8\"  \"Sleeper Cell is what 24 should have been. 24 ...   \n",
       "24978    \"7208_8\"  \"Not for everyone, but I really like it. Nice ...   \n",
       "24979    \"5363_8\"  \"Set just before the Second World War, this is...   \n",
       "24980    \"4067_8\"  \"Contains Spoiler The movie is a good action/c...   \n",
       "24981    \"1773_7\"  \"This is one of several period sea-faring yarn...   \n",
       "24982   \"1498_10\"  \"Hearkening back to those \\\"Good Old Days\\\" of...   \n",
       "24983  \"10497_10\"  \"I thought this to be a pretty good example of...   \n",
       "24984   \"3444_10\"  \"Seeing this film, or rather set of films, in ...   \n",
       "24985     \"588_2\"  \"I didn't like this movie for many reasons - V...   \n",
       "24986    \"9678_9\"  \"I absolutely love this show!!!!!!!, Its basic...   \n",
       "24987    \"1983_9\"  \"eXistenZ combines director David Cronenberg's...   \n",
       "24988    \"5012_3\"  \"this movie is allegedly a comedy.so where did...   \n",
       "24989   \"12240_2\"  \"The Comebacks is a spoof on inspirational spo...   \n",
       "24990    \"5071_2\"  \"I'd love to write a little summary of this mo...   \n",
       "24991    \"5078_2\"  \"Obvious tailored vehicle for Ryan Philippe. I...   \n",
       "24992   \"10069_3\"  \"<br /><br />JURASSIC PARK III *___ Adventure ...   \n",
       "24993    \"7407_8\"  \"If you're even mildly interested in the War b...   \n",
       "24994    \"7207_1\"  \"It used to be that video distributors like Su...   \n",
       "24995   \"2155_10\"  \"Sony Pictures Classics, I'm looking at you! S...   \n",
       "24996     \"59_10\"  \"I always felt that Ms. Merkerson had never go...   \n",
       "24997    \"2531_1\"  \"I was so disappointed in this movie. I am ver...   \n",
       "24998    \"7772_8\"  \"From the opening sequence, filled with black ...   \n",
       "24999  \"11465_10\"  \"This is a great horror film for people who do...   \n",
       "\n",
       "       sentiment  \n",
       "0              0  \n",
       "1              0  \n",
       "2              0  \n",
       "3              1  \n",
       "4              0  \n",
       "5              0  \n",
       "6              1  \n",
       "7              1  \n",
       "8              0  \n",
       "9              0  \n",
       "10             0  \n",
       "11             0  \n",
       "12             0  \n",
       "13             0  \n",
       "14             0  \n",
       "15             0  \n",
       "16             1  \n",
       "17             0  \n",
       "18             0  \n",
       "19             0  \n",
       "20             0  \n",
       "21             0  \n",
       "22             0  \n",
       "23             0  \n",
       "24             0  \n",
       "25             0  \n",
       "26             0  \n",
       "27             0  \n",
       "28             0  \n",
       "29             0  \n",
       "...          ...  \n",
       "24970          1  \n",
       "24971          1  \n",
       "24972          1  \n",
       "24973          0  \n",
       "24974          0  \n",
       "24975          0  \n",
       "24976          1  \n",
       "24977          0  \n",
       "24978          1  \n",
       "24979          1  \n",
       "24980          1  \n",
       "24981          0  \n",
       "24982          1  \n",
       "24983          0  \n",
       "24984          1  \n",
       "24985          1  \n",
       "24986          1  \n",
       "24987          0  \n",
       "24988          1  \n",
       "24989          0  \n",
       "24990          0  \n",
       "24991          0  \n",
       "24992          0  \n",
       "24993          1  \n",
       "24994          0  \n",
       "24995          0  \n",
       "24996          1  \n",
       "24997          0  \n",
       "24998          0  \n",
       "24999          0  \n",
       "\n",
       "[25000 rows x 3 columns]"
      ]
     },
     "execution_count": 97,
     "metadata": {},
     "output_type": "execute_result"
    }
   ],
   "source": [
    "df_result"
   ]
  },
  {
   "cell_type": "markdown",
   "metadata": {},
   "source": [
    "## Further Reading"
   ]
  },
  {
   "cell_type": "markdown",
   "metadata": {},
   "source": [
    "<a href = \"https://www.kaggle.com/c/word2vec-nlp-tutorial/details/part-1-for-beginners-bag-of-words\">Kaggle Tutorial</a><br/>\n",
    "<a href = \"https://medium.com/@josemarcialportilla/enchanted-random-forest-b08d418cb411#.ikr779iae\">Introduction to Random Forests</a><br/>\n",
    "<a href = \"www.nltk.org\">NLTK</a><br/>\n",
    "<a href = \"http://scikit-learn.org/stable/modules/generated/sklearn.ensemble.RandomForestClassifier.html\">Scikit-Learn Random Forest Class</a><br/>"
   ]
  },
  {
   "cell_type": "code",
   "execution_count": null,
   "metadata": {
    "collapsed": true
   },
   "outputs": [],
   "source": []
  }
 ],
 "metadata": {
  "anaconda-cloud": {},
  "kernelspec": {
   "display_name": "Python [default]",
   "language": "python",
   "name": "python3"
  },
  "language_info": {
   "codemirror_mode": {
    "name": "ipython",
    "version": 3
   },
   "file_extension": ".py",
   "mimetype": "text/x-python",
   "name": "python",
   "nbconvert_exporter": "python",
   "pygments_lexer": "ipython3",
   "version": "3.5.2"
  }
 },
 "nbformat": 4,
 "nbformat_minor": 0
}
