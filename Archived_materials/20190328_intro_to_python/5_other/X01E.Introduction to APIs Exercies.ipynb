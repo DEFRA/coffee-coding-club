{
 "cells": [
  {
   "cell_type": "markdown",
   "metadata": {},
   "source": [
    "# X01E.Introduction to APIs Exercises"
   ]
  },
  {
   "cell_type": "markdown",
   "metadata": {},
   "source": [
    "## Flightstats API"
   ]
  },
  {
   "cell_type": "markdown",
   "metadata": {},
   "source": [
    "Below are a User Name, API key and URL to the Flightstats API.\n",
    "\n",
    "Challenge 1: Head over to the <a href = \"https://developer.flightstats.com/api-docs/flightstatus/v2/airport\">Flightstats API Console</a> and explore using the Interactive Documentation section to return JSON data. You can then Copy & Paste this into Python to model it into a Pandas DataFrame.\n",
    "\n",
    "Challenge 2: Instead of using the Interactive Console, see if you can use Python and Requests to get a response from the API. You'll be able to use the console for clues as to the structure of the API."
   ]
  },
  {
   "cell_type": "code",
   "execution_count": 2,
   "metadata": {
    "collapsed": true
   },
   "outputs": [],
   "source": [
    "import requests\n",
    "import pandas as pd\n",
    "\n",
    "app_id = 'b7da91e7'\n",
    "app_key = '485251145270dd267769ad79550c7de4'\n",
    "url = 'https://developer.flightstats.com/api-docs/flightstatus/v2/json/airport/status'"
   ]
  },
  {
   "cell_type": "markdown",
   "metadata": {},
   "source": [
    "## Hacktrain API"
   ]
  },
  {
   "cell_type": "markdown",
   "metadata": {},
   "source": [
    "Challenge 1: Head over to the <a href = \"http://darwin.hacktrain.com/\">Hacktrain API</a> and explore how you can use the console to return data which you can then copy and paste into Python to model it into a Pandas DataFrame.\n",
    "\n",
    "Challenge 2: Instead of using the console, use Python and Requests to interface with the the API and return data to model into a Pandas dataframe."
   ]
  },
  {
   "cell_type": "code",
   "execution_count": 3,
   "metadata": {
    "collapsed": true
   },
   "outputs": [],
   "source": [
    "import requests\n",
    "import pandas as pd\n",
    "\n",
    "url   = 'http://darwin.hacktrain.com/api/train/'                       # The Location of the API\n",
    "values= {'apiKey':'b05cc6d2-7704-4350-a44f-062b59ba39c5','rows':'10'}  # A Dictionary for our API key and limiting the rows to 50\n",
    "stat  = 'EUS'\t\t\t\t\t\t\t\t\t                       # The API parameter for Station"
   ]
  },
  {
   "cell_type": "code",
   "execution_count": null,
   "metadata": {
    "collapsed": true
   },
   "outputs": [],
   "source": []
  }
 ],
 "metadata": {
  "kernelspec": {
   "display_name": "Python 3",
   "language": "python",
   "name": "python3"
  },
  "language_info": {
   "codemirror_mode": {
    "name": "ipython",
    "version": 3
   },
   "file_extension": ".py",
   "mimetype": "text/x-python",
   "name": "python",
   "nbconvert_exporter": "python",
   "pygments_lexer": "ipython3",
   "version": "3.5.1"
  }
 },
 "nbformat": 4,
 "nbformat_minor": 0
}
