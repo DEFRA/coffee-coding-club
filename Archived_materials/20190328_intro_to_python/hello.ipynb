{
 "cells": [
  {
   "cell_type": "markdown",
   "metadata": {},
   "source": [
    "# Python for Analysts Training"
   ]
  },
  {
   "cell_type": "markdown",
   "metadata": {},
   "source": [
    "Hi! And welcome to the Python for Analysts training course. This covers everything you need to know to start using Python for data analysis and visualisation as well as showcasing some more advanced stuff, including Statistics, Machine Learning, Web Scraping / Interaction etc.  \n",
    "\n",
    "The course assumes no prior knowledge of Python and will teach you everything you need to know in order to use Python for data analysis and visualisation, including interfacing with Python via the Jupyter interface, using Text Editors / Integrated Development Environments (IDEs), upgrading Python, working with the command line etc.\n",
    "\n",
    "Lastly, I designed the course to be delivered in a classroom environment, however it's just as easy to go through the course by cloning the github repo and working through the lessons and exercices.\n",
    "\n"
   ]
  },
  {
   "cell_type": "markdown",
   "metadata": {},
   "source": [
    "## About me"
   ]
  },
  {
   "cell_type": "markdown",
   "metadata": {},
   "source": [
    "I'm Tom Ewing, a data scientist working for the Department for Transport. I've been using Python just under 2 years having made the jump from SAS. \n",
    "\n",
    "One of the first things I noticed about Python was that much of the training out there is geared towards programmers rather than analysts and this made learning more difficult. Additionally much of this assumes knowledge of things like packages, the command line etc. which analysts are less likely to have experience with.\n",
    "\n",
    "Having delivered training courses in other technology before, I was really keen to use this experience to develop my own Python for Analysts training course."
   ]
  },
  {
   "cell_type": "markdown",
   "metadata": {},
   "source": [
    "## Structure of the Course"
   ]
  },
  {
   "cell_type": "markdown",
   "metadata": {},
   "source": [
    "This course has been designed to be both delivered as a classroom training course, but can also be taken offline as well, in your own time.\n",
    "\n",
    "In a classroom environment course is designed to cover the best part of 2 days with time for exercises and consolidation in between. There is also more material for you to explore afterwatrd also.\n",
    "\n",
    "You will be expected to have a project to practice with! This will allow you to consolidate your Python training and continue to learn and develop.\n",
    "\n",
    "The structure of the course is as follows:\n",
    "\n",
    "**Basics**\n",
    "\n",
    "* Interfacing with Python\n",
    "* Basic Python Sytnax\n",
    "* Data Structures\n",
    "* Coding concepts\n",
    "* Looping\n",
    "* Enhancing Python with Packages\n",
    "\n",
    "**Working with data**\n",
    "\n",
    "* Data Analysis Libraries\n",
    "* Advanced Data Structures\n",
    "* Importing / Exporting Data\n",
    "* Working with DataFrames\n",
    "* Summary Statistics\n",
    "* Tables\n",
    "\n",
    "**Visualisation**\n",
    "\n",
    "* Static Visualisation\n",
    "* Statistical Visualisation\n",
    "* Interactive Visualisation\n"
   ]
  },
  {
   "cell_type": "markdown",
   "metadata": {},
   "source": [
    "Those taking the course should note that the best way to consolidate their learning is via your project. Not only will this help you embed what you've leared, but it will also get you used to solving problems and continuing your learning journey in Python!"
   ]
  },
  {
   "cell_type": "markdown",
   "metadata": {},
   "source": [
    "## Following along"
   ]
  },
  {
   "cell_type": "markdown",
   "metadata": {},
   "source": [
    "During the lectures, you might wish to just listen, follow along on your screen, or execute the code in your own blank notebook, make notes etc. All of this is fine so long as you pay attention!\n",
    "\n",
    "In most of the lectures the code is 'pre-baked' - we will explain what it does, execute it and show you and talk you through the output. This means we can give the class our full attention and not focus on finding typos or wondering why code didn't run properly!"
   ]
  },
  {
   "cell_type": "markdown",
   "metadata": {},
   "source": [
    "## Domestic Arrangements"
   ]
  },
  {
   "cell_type": "markdown",
   "metadata": {},
   "source": [
    "* Laptops\n",
    "* Toilets\n",
    "* Fire Alarm\n",
    "* Breaks & Lunch\n",
    "* Phones"
   ]
  }
 ],
 "metadata": {
  "anaconda-cloud": {},
  "kernelspec": {
   "display_name": "Python 3",
   "language": "python",
   "name": "python3"
  },
  "language_info": {
   "codemirror_mode": {
    "name": "ipython",
    "version": 3
   },
   "file_extension": ".py",
   "mimetype": "text/x-python",
   "name": "python",
   "nbconvert_exporter": "python",
   "pygments_lexer": "ipython3",
   "version": "3.6.1"
  }
 },
 "nbformat": 4,
 "nbformat_minor": 1
}
