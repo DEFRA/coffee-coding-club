{
 "cells": [
  {
   "cell_type": "markdown",
   "metadata": {},
   "source": [
    "# B06E: Basic Data Structures Part 2 Exercises"
   ]
  },
  {
   "cell_type": "markdown",
   "metadata": {},
   "source": [
    "#### Exercise 1: For the following list:\n",
    "\n",
    "1) Return the count of the number of items in it.<br/>\n",
    "2) Remove the 'Tom' and 'Behnom' values from the list<br/>\n",
    "3) Sort the list into alphabetical order<br/>\n",
    "4) Append a new value to the list of 'Brian'.<br/>\n",
    "5) Sort the list in reverse order and convert this to a Tuple.<br/>\n",
    "6) Why can't we sort the tuple?<br/>"
   ]
  },
  {
   "cell_type": "code",
   "execution_count": 64,
   "metadata": {
    "collapsed": true
   },
   "outputs": [],
   "source": [
    "beatles = ['John','Paul','George','Ringo','Tom','Behnom']"
   ]
  },
  {
   "cell_type": "code",
   "execution_count": null,
   "metadata": {},
   "outputs": [],
   "source": []
  },
  {
   "cell_type": "markdown",
   "metadata": {
    "collapsed": true
   },
   "source": [
    "#### Exercise 2: On the following dicitionary...\n",
    "\n",
    "1) Use key indexing to print the values for a, d and h in the dictionary 'dict'<br/>\n",
    "2) Update the 'dict' dictionary with the key 'k' with the value 11<br/>\n",
    "3) Create separate lists for the keys and values (Move on if you get stuck!)<br/>"
   ]
  },
  {
   "cell_type": "code",
   "execution_count": 44,
   "metadata": {},
   "outputs": [],
   "source": [
    "another_dict = {\n",
    "    'a':1,\n",
    "    'b':2,\n",
    "    'c':3,\n",
    "    'd':4,\n",
    "    'e':5,\n",
    "    'f':6,\n",
    "    'g':7,\n",
    "    'h':8,\n",
    "    'i':9,\n",
    "    'j':10\n",
    "}"
   ]
  },
  {
   "cell_type": "code",
   "execution_count": null,
   "metadata": {},
   "outputs": [],
   "source": []
  },
  {
   "cell_type": "markdown",
   "metadata": {},
   "source": [
    "#### Exercise 3: Below are 4 data structures...\n",
    "\n",
    "1) Create a nested dictionary of lists containing these with the keys as follows: Cheese, Biscuits, Vegetables, Milk<br/>\n",
    "2) From the dictionary, call the:<br/>\n",
    "* third value in cheese<br/>\n",
    "* first value in biscuits<br/>\n",
    "* last value in vegetables<br/>\n",
    "* second value in milk<br/>"
   ]
  },
  {
   "cell_type": "code",
   "execution_count": 1,
   "metadata": {},
   "outputs": [],
   "source": [
    "cheese = ['Stilton','Wensleydale','Cheddar','Brie','Edam','Feta','Halloumi']\n",
    "biscuits = ['Digestive','Rich Tea','Hob Nob','Custard Creme','Shortbread']\n",
    "vegetables = ('Peas','Carrots','Green Bean','Sweetcorn')\n",
    "milk = set(['Semi-Skimmed','Skimmed','Whole','Soy'])"
   ]
  },
  {
   "cell_type": "code",
   "execution_count": null,
   "metadata": {},
   "outputs": [],
   "source": []
  }
 ],
 "metadata": {
  "kernelspec": {
   "display_name": "Python 3",
   "language": "python",
   "name": "python3"
  },
  "language_info": {
   "codemirror_mode": {
    "name": "ipython",
    "version": 3
   },
   "file_extension": ".py",
   "mimetype": "text/x-python",
   "name": "python",
   "nbconvert_exporter": "python",
   "pygments_lexer": "ipython3",
   "version": "3.6.4"
  }
 },
 "nbformat": 4,
 "nbformat_minor": 1
}
