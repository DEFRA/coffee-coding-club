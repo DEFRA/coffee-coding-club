{
 "cells": [
  {
   "cell_type": "markdown",
   "metadata": {},
   "source": [
    "# B12: Summary of the Basics Section of the course"
   ]
  },
  {
   "cell_type": "markdown",
   "metadata": {},
   "source": [
    "Well done on compelting the Basics section of the course!\n",
    "\n",
    "We learnt a ton of cool stuff about base Python:\n",
    "\n",
    "* Python, Anaconda & Jupyter\n",
    "* Data Structures\n",
    "* Objects, Functions and Methods\n",
    "* If / Then / Else \n",
    "* Try / Except\n",
    "* Loops & Iterators\n",
    "* Built in Functions\n",
    "* Packages"
   ]
  },
  {
   "cell_type": "markdown",
   "metadata": {},
   "source": [
    "However!!! There is a lot that we haven't covered and we haven't scratched particularly deeply into some of the things that Python is capable of. Remember that this training is just the start of your learning - we're teaching you the basics and only what you need to know to get up and running."
   ]
  }
 ],
 "metadata": {
  "kernelspec": {
   "display_name": "Python 3",
   "language": "python",
   "name": "python3"
  },
  "language_info": {
   "codemirror_mode": {
    "name": "ipython",
    "version": 3
   },
   "file_extension": ".py",
   "mimetype": "text/x-python",
   "name": "python",
   "nbconvert_exporter": "python",
   "pygments_lexer": "ipython3",
   "version": "3.5.1"
  }
 },
 "nbformat": 4,
 "nbformat_minor": 0
}
