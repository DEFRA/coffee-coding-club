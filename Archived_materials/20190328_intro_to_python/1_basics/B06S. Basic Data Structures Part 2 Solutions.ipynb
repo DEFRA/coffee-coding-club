{
 "cells": [
  {
   "cell_type": "markdown",
   "metadata": {},
   "source": [
    "# B06S: Basic Data Structures Part 2 Solutions"
   ]
  },
  {
   "cell_type": "markdown",
   "metadata": {},
   "source": [
    "#### Exercise 1: For the following list:\n",
    "\n",
    "1) Return the count of the number of items in it.<br/>\n",
    "2) Remove the 'Tom' and 'Behnom' values from the list<br/>\n",
    "3) Sort the list into alphabetical order<br/>\n",
    "4) Append a new value to the list of 'Brian'.<br/>\n",
    "5) Sort the list in reverse order and convert this to a Tuple.<br/>\n",
    "6) Why can't we sort the tuple?<br/>"
   ]
  },
  {
   "cell_type": "code",
   "execution_count": 5,
   "metadata": {
    "collapsed": true
   },
   "outputs": [],
   "source": [
    "beatles = ['John','Paul','George','Ringo','Tom','Behnom']"
   ]
  },
  {
   "cell_type": "code",
   "execution_count": 6,
   "metadata": {
    "collapsed": false
   },
   "outputs": [
    {
     "data": {
      "text/plain": [
       "6"
      ]
     },
     "execution_count": 6,
     "metadata": {},
     "output_type": "execute_result"
    }
   ],
   "source": [
    "len(beatles)"
   ]
  },
  {
   "cell_type": "code",
   "execution_count": 7,
   "metadata": {
    "collapsed": false
   },
   "outputs": [
    {
     "data": {
      "text/plain": [
       "['John', 'Paul', 'George', 'Ringo']"
      ]
     },
     "execution_count": 7,
     "metadata": {},
     "output_type": "execute_result"
    }
   ],
   "source": [
    "beatles.remove('Tom')\n",
    "beatles.remove('Behnom')\n",
    "beatles"
   ]
  },
  {
   "cell_type": "code",
   "execution_count": 8,
   "metadata": {
    "collapsed": false
   },
   "outputs": [
    {
     "data": {
      "text/plain": [
       "['George', 'John', 'Paul', 'Ringo']"
      ]
     },
     "execution_count": 8,
     "metadata": {},
     "output_type": "execute_result"
    }
   ],
   "source": [
    "beatles.sort()\n",
    "beatles"
   ]
  },
  {
   "cell_type": "code",
   "execution_count": 9,
   "metadata": {
    "collapsed": false
   },
   "outputs": [
    {
     "data": {
      "text/plain": [
       "['George', 'John', 'Paul', 'Ringo', 'Brian']"
      ]
     },
     "execution_count": 9,
     "metadata": {},
     "output_type": "execute_result"
    }
   ],
   "source": [
    "beatles.append('Brian')\n",
    "beatles"
   ]
  },
  {
   "cell_type": "code",
   "execution_count": 10,
   "metadata": {
    "collapsed": false
   },
   "outputs": [
    {
     "data": {
      "text/plain": [
       "('Ringo', 'Paul', 'John', 'George', 'Brian')"
      ]
     },
     "execution_count": 10,
     "metadata": {},
     "output_type": "execute_result"
    }
   ],
   "source": [
    "beatles.sort(reverse=True)\n",
    "beatles_tuple = tuple(beatles)\n",
    "beatles_tuple"
   ]
  },
  {
   "cell_type": "code",
   "execution_count": 74,
   "metadata": {
    "collapsed": true
   },
   "outputs": [],
   "source": [
    "# Because Tuples are immutable and cannot be changed!"
   ]
  },
  {
   "cell_type": "markdown",
   "metadata": {
    "collapsed": true
   },
   "source": [
    "#### Exercise 2: On the following dicitionary...\n",
    "\n",
    "1) Use key indexing to print the values for a, d and h in the dictionary 'dict'<br/>\n",
    "2) Update the 'dict' dictionary with the key 'k' with the value 11<br/>\n",
    "3) Create separate lists for the keys and values (Move on if you get stuck!)<br/>"
   ]
  },
  {
   "cell_type": "code",
   "execution_count": 2,
   "metadata": {
    "collapsed": false
   },
   "outputs": [],
   "source": [
    "mydict1 = {'a':1,\n",
    "        'b':2,\n",
    "        'c':3,\n",
    "        'd':4,\n",
    "        'e':5,\n",
    "        'f':6,\n",
    "        'g':7,\n",
    "        'h':8,\n",
    "        'i':9,\n",
    "        'j':10}"
   ]
  },
  {
   "cell_type": "code",
   "execution_count": 3,
   "metadata": {
    "collapsed": false
   },
   "outputs": [
    {
     "name": "stdout",
     "output_type": "stream",
     "text": [
      "1 4 8\n"
     ]
    }
   ],
   "source": [
    "print(\n",
    "      mydict1['a'],\n",
    "      mydict1['d'],\n",
    "      mydict1['h']\n",
    "     )"
   ]
  },
  {
   "cell_type": "code",
   "execution_count": 6,
   "metadata": {
    "collapsed": false
   },
   "outputs": [
    {
     "data": {
      "text/plain": [
       "{'a': 1,\n",
       " 'b': 2,\n",
       " 'c': 3,\n",
       " 'd': 4,\n",
       " 'e': 5,\n",
       " 'f': 6,\n",
       " 'g': 7,\n",
       " 'h': 8,\n",
       " 'i': 9,\n",
       " 'j': 10,\n",
       " 'k': 11}"
      ]
     },
     "execution_count": 6,
     "metadata": {},
     "output_type": "execute_result"
    }
   ],
   "source": [
    "mydict1.update({'k':11})\n",
    "\n",
    "# or\n",
    "\n",
    "upd = {'k':11}\n",
    "mydict1.update(upd)\n",
    "\n",
    "#\n",
    "\n",
    "mydict1['k'] = 11\n",
    "mydict1"
   ]
  },
  {
   "cell_type": "code",
   "execution_count": 14,
   "metadata": {
    "collapsed": false
   },
   "outputs": [],
   "source": [
    "keys = list(dict1.keys())\n",
    "vals = list(dict1.values())"
   ]
  },
  {
   "cell_type": "markdown",
   "metadata": {},
   "source": [
    "#### Exercise 3: Below are 4 data structures...\n",
    "\n",
    "1) Create a nested dictionary of lists containing these with the keys as follows: Cheese, Biscuits, Vegetables, Milk<br/>\n",
    "2) From the dictionary, call the:<br/>\n",
    "* third value in cheese<br/>\n",
    "* first value in biscuits<br/>\n",
    "* last value in vegetables<br/>\n",
    "* second value in milk<br/>"
   ]
  },
  {
   "cell_type": "code",
   "execution_count": 15,
   "metadata": {
    "collapsed": false
   },
   "outputs": [],
   "source": [
    "cheese = ['Stilton','Wensleydale','Cheddar','Brie','Edam','Feta','Halloumi']\n",
    "biscuits = ['Digestive','Rich Tea','Hob Nob','Custard Creme','Shortbread']\n",
    "vegetables = ('Peas','Carrots','Green Bean','Sweetcorn')\n",
    "milk = set()\n",
    "milk.add('Semi-Skimmed')\n",
    "milk.add('Skimmed')\n",
    "milk.add('Whole')\n",
    "milk.add('Soy')"
   ]
  },
  {
   "cell_type": "code",
   "execution_count": 18,
   "metadata": {
    "collapsed": false
   },
   "outputs": [
    {
     "name": "stdout",
     "output_type": "stream",
     "text": [
      "<class 'list'> <class 'list'>\n"
     ]
    },
    {
     "data": {
      "text/plain": [
       "{'Biscuits': ['Digestive',\n",
       "  'Rich Tea',\n",
       "  'Hob Nob',\n",
       "  'Custard Creme',\n",
       "  'Shortbread'],\n",
       " 'Cheese': ['Stilton',\n",
       "  'Wensleydale',\n",
       "  'Cheddar',\n",
       "  'Brie',\n",
       "  'Edam',\n",
       "  'Feta',\n",
       "  'Halloumi'],\n",
       " 'Milk': ['Skimmed', 'Whole', 'Semi-Skimmed', 'Soy'],\n",
       " 'Vegetables': ['Peas', 'Carrots', 'Green Bean', 'Sweetcorn']}"
      ]
     },
     "execution_count": 18,
     "metadata": {},
     "output_type": "execute_result"
    }
   ],
   "source": [
    "vegetables_list = list(vegetables)\n",
    "milk_list = list(milk)\n",
    "\n",
    "print(\n",
    "    type(vegetables_list),\n",
    "    type(milk_list)\n",
    ")\n",
    "\n",
    "\n",
    "dict1 = {'Cheese':cheese,\n",
    "        'Biscuits':biscuits,\n",
    "        'Vegetables':vegetables_list,\n",
    "        'Milk':milk_list}\n",
    "dict1"
   ]
  },
  {
   "cell_type": "code",
   "execution_count": 21,
   "metadata": {
    "collapsed": false
   },
   "outputs": [
    {
     "name": "stdout",
     "output_type": "stream",
     "text": [
      "Cheddar Digestive Sweetcorn Whole\n"
     ]
    }
   ],
   "source": [
    "print(\n",
    "dict1['Cheese'][2],\n",
    "dict1['Biscuits'][0],\n",
    "dict1['Vegetables'][-1],\n",
    "dict1['Milk'][1]\n",
    ")"
   ]
  },
  {
   "cell_type": "code",
   "execution_count": null,
   "metadata": {
    "collapsed": true
   },
   "outputs": [],
   "source": []
  }
 ],
 "metadata": {
  "anaconda-cloud": {},
  "kernelspec": {
   "display_name": "Python [default]",
   "language": "python",
   "name": "python3"
  },
  "language_info": {
   "codemirror_mode": {
    "name": "ipython",
    "version": 3
   },
   "file_extension": ".py",
   "mimetype": "text/x-python",
   "name": "python",
   "nbconvert_exporter": "python",
   "pygments_lexer": "ipython3",
   "version": "3.5.2"
  }
 },
 "nbformat": 4,
 "nbformat_minor": 0
}
