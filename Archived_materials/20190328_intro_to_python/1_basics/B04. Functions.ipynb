{
 "cells": [
  {
   "cell_type": "markdown",
   "metadata": {},
   "source": [
    "# B04: Functions"
   ]
  },
  {
   "cell_type": "markdown",
   "metadata": {},
   "source": [
    "A function is a block of organized, reusable code that is used to perform a single action. Function make writing code a lot easier since instead of having to repeat blocks of code over and over, we can call functions with specific paramters instead. The syntax to call a function in Python is as follows:\n",
    "\n",
    "```\n",
    "function_name(function_parameter, function_parameter...)\n",
    "```\n",
    "\n",
    "The parameters can be anything... objects, strings, text, blanks etc.\n",
    "\n",
    "Python has some functions 'built in' but we can create our own custom functions too.\n",
    "\n",
    "We've already met 2 functions:\n",
    "\n",
    "* type()\n",
    "* print()\n",
    "\n",
    "Lets meet another couplle of functions... len() and help()\n",
    "\n",
    "The len() function can be used to tell us how long a particular variable or object is, in this case a character string:"
   ]
  },
  {
   "cell_type": "markdown",
   "metadata": {},
   "source": [
    "#### The len() function"
   ]
  },
  {
   "cell_type": "markdown",
   "metadata": {},
   "source": [
    "The len() function can be used to tell us how long a particular variable or object is, in this case a character string:"
   ]
  },
  {
   "cell_type": "code",
   "execution_count": null,
   "metadata": {},
   "outputs": [],
   "source": [
    "a = \"Hello World\"\n",
    "len(a)"
   ]
  },
  {
   "cell_type": "markdown",
   "metadata": {},
   "source": [
    "#### The help() function"
   ]
  },
  {
   "cell_type": "markdown",
   "metadata": {},
   "source": [
    "And the help() function can return some useful help on functions, variables and objects. In this case we'll call it on the len() function:"
   ]
  },
  {
   "cell_type": "code",
   "execution_count": null,
   "metadata": {},
   "outputs": [],
   "source": [
    "help(len)"
   ]
  },
  {
   "cell_type": "markdown",
   "metadata": {},
   "source": [
    "Note that we didn't need to put () after len"
   ]
  },
  {
   "cell_type": "markdown",
   "metadata": {},
   "source": [
    "help() is a really useful function that can tell you more about anything and everytihng in Python. When you're starting out it's an excellent friend to make early on! =)"
   ]
  },
  {
   "cell_type": "markdown",
   "metadata": {},
   "source": [
    "#### Nesting Functions:"
   ]
  },
  {
   "cell_type": "markdown",
   "metadata": {},
   "source": [
    "You can also \"nest\" functions inside one another like so:"
   ]
  },
  {
   "cell_type": "code",
   "execution_count": null,
   "metadata": {},
   "outputs": [],
   "source": [
    "a = \"Hello World\"\n",
    "b = len(a)\n",
    "print(b)"
   ]
  },
  {
   "cell_type": "markdown",
   "metadata": {},
   "source": [
    "This is a good way to keep your code compact and succinct."
   ]
  },
  {
   "cell_type": "markdown",
   "metadata": {},
   "source": [
    "#### Creating Functions"
   ]
  },
  {
   "cell_type": "markdown",
   "metadata": {},
   "source": [
    "A basic function has two steps... \n",
    "\n",
    "* Defininition (where we create and define the function)\n",
    "* Execution (where we call the function)"
   ]
  },
  {
   "cell_type": "markdown",
   "metadata": {},
   "source": [
    "#### Defining a Function"
   ]
  },
  {
   "cell_type": "code",
   "execution_count": null,
   "metadata": {},
   "outputs": [],
   "source": [
    "def my_function(parameter1, parameter2, parameter3):\n",
    "    print(parameter1)\n",
    "    print(parameter2)\n",
    "    print(parameter3)"
   ]
  },
  {
   "cell_type": "markdown",
   "metadata": {},
   "source": [
    "The above shows an example function. Let's break the function down into it's individual parts...\n",
    "\n",
    "* The **def** keyword lets Python know that we're creating a function. \n",
    "* This is followed by a space and the **function name**, in this case 'function_name'. \n",
    "* The brackets contain the **parameters or arguments** of our function. Parameters are what we input into the function and are usually different each time.\n",
    "* We then have a **colon** to signify that the body of the function is about to follow.\n",
    "* The body of this particular function consists of a print statement for each of the input arguments. This means that the function will print out the parameters we provide to the function, however the body can contain any collection of Python code.\n",
    "* You'll notice that the body is indented... This is important as the indentation tells Python where the function ends.\n",
    "\n",
    "In this example we've built three parameters / arguments as follows:\n",
    "\n",
    "```\n",
    "parameter1\n",
    "parameter2\n",
    "parameter3\n",
    "```\n",
    "\n",
    "These act as placeholders in the function and tell Python which values you want to perform actions on. When we input parameters into the function, Python will subsitutute these placeholders for whatever values you input when you call the function.\n",
    "\n",
    "You can call them anytyhing so long as you are consistent between defining them in the brackets after the def statement and using them in the body of your function."
   ]
  },
  {
   "cell_type": "markdown",
   "metadata": {},
   "source": [
    "#### Calling / Executing a Function"
   ]
  },
  {
   "cell_type": "markdown",
   "metadata": {},
   "source": [
    "In order to execute or call the function you need only write the function name and provide your input data in brackets. By default Python will assign your input data to parameters based upon their order. In this example:\n",
    "\n",
    "```\n",
    "parameter1 = 'This is the body of the function...'\n",
    "parameter2 = 'We can pass values to the function as arguements...'\n",
    "parameter3 = 'And the function will use them when executing'\n",
    "```\n",
    "\n",
    "The idea of functions is that they can perform the same action using different input data each time."
   ]
  },
  {
   "cell_type": "code",
   "execution_count": null,
   "metadata": {},
   "outputs": [],
   "source": [
    "my_function(\n",
    "    'This is the body of the function...',\n",
    "    'We can pass values to the function as arguements',\n",
    "    'And the function will use them when executing'\n",
    ")"
   ]
  },
  {
   "cell_type": "markdown",
   "metadata": {},
   "source": [
    "You'll see here that we've broken out the three parameters on to separate, indented lines. The lines don't have to be indented in order to execute correctly but I've indented them as this is considered best practice in Python... But if whitespace is significant and affects the execution of our code how come it hasn't in this case? The answer is because the parameters are contained within brackets. When you're within brackets, Python's strict rules on whitespace and indentation are relaxed somewhat!\n",
    "\n",
    "You can read more about how to write code according to best practice in [PEP 8](https://www.python.org/dev/peps/pep-0008/). For now we'll follow (most of!) the PEP 8 conventions wherever possible in the course without referencing it further."
   ]
  },
  {
   "cell_type": "code",
   "execution_count": null,
   "metadata": {},
   "outputs": [],
   "source": [
    "my_function(\n",
    "    'If we provide different input data...',\n",
    "    'The function will perform the same action on it...',\n",
    "    'And give different outputs!'\n",
    ")"
   ]
  },
  {
   "cell_type": "markdown",
   "metadata": {},
   "source": [
    "#### An Example Function"
   ]
  },
  {
   "cell_type": "markdown",
   "metadata": {},
   "source": [
    "Lets have a go at creating our own function that prints some traffic count volumes:"
   ]
  },
  {
   "cell_type": "code",
   "execution_count": null,
   "metadata": {},
   "outputs": [],
   "source": [
    "def traffic_printer(cars,bikes,buses):\n",
    "    print(cars)\n",
    "    print(bikes)\n",
    "    print(buses)"
   ]
  },
  {
   "cell_type": "markdown",
   "metadata": {},
   "source": [
    "We've called the function ```traffic_printer``` and we have 3 x print() statements which you'll see are indented. This is because in Python **Whitespace is Significant!**\n",
    "\n",
    "Note that Python will count a single space as an indentation but the general convention is that 4 spaces or 1 tab is used for each level of indentation. This is because this makes the code more readable and **Readability Counts!**\n",
    "\n",
    "You'll also notice that when we execute the code, Python hasn't returned anything. This is because that whilst we have defined the function, we've not executed / called it, nor given it any paramters. We'll fix that now.\n",
    "\n",
    "If no parameters are explicitly stated, Python will rely upon the position /order of the paramters to determine which is which:"
   ]
  },
  {
   "cell_type": "code",
   "execution_count": null,
   "metadata": {},
   "outputs": [],
   "source": [
    "# Calling a function using Positional parameters\n",
    "traffic_printer(200,50,25)"
   ]
  },
  {
   "cell_type": "markdown",
   "metadata": {},
   "source": [
    "Alternatively, we can specifiy named paramters by referencing the parameter names like so:"
   ]
  },
  {
   "cell_type": "code",
   "execution_count": null,
   "metadata": {},
   "outputs": [],
   "source": [
    "# Calling a function using Named parameters\n",
    "traffic_printer(bikes=200,buses=50,cars=25) "
   ]
  },
  {
   "cell_type": "markdown",
   "metadata": {},
   "source": [
    "However our function's output is a little more than a series of numbers which won't make sense to a user. We can change that by using string formatting to embed the output values within a string like so:"
   ]
  },
  {
   "cell_type": "code",
   "execution_count": null,
   "metadata": {},
   "outputs": [],
   "source": [
    "def traffic_printer(cars, bikes, buses):\n",
    "    print('There were {} cars counted'.format(cars))\n",
    "    print('There were {} bikes counted'.format(bikes))\n",
    "    print('There were {} buses counted'.format(buses))\n",
    "\n",
    "traffic_printer(cars=200, bikes=50, buses=25)"
   ]
  },
  {
   "cell_type": "markdown",
   "metadata": {},
   "source": [
    "You'll notice two things... firstly that we've included a set of curly brackets in our string `{}` and at the end of our string we've added a `.format()` statement.\n",
    "You'll see from the output that Python has replaced the curly brackets with the value from the variable (e.g. cars = 200 etc.) in the format statement. This is called **string formatting** and whilst there are other ways to do it, using `.format()` is the generally accepted best convention for doing so.\n",
    "\n",
    "You can also use a `+` operator to accomplish the same thing:"
   ]
  },
  {
   "cell_type": "code",
   "execution_count": null,
   "metadata": {},
   "outputs": [],
   "source": [
    "def traffic_printer(cars, bikes, buses):\n",
    "    print('There were ' + str(cars) + ' cars counted')\n",
    "    print('There were ' + str(bikes) + ' bikes counted')\n",
    "    print('There were ' + str(buses) + ' buses counted')\n",
    "\n",
    "traffic_printer(cars=200, bikes=50, buses=25)"
   ]
  },
  {
   "cell_type": "markdown",
   "metadata": {},
   "source": [
    "However you'll see that this is a lot less readable and more verbose than using `.format()`"
   ]
  },
  {
   "cell_type": "markdown",
   "metadata": {},
   "source": [
    "We can also provide multiple arguements to the `.format()` statement as follows:"
   ]
  },
  {
   "cell_type": "code",
   "execution_count": null,
   "metadata": {},
   "outputs": [],
   "source": [
    "def traffic_printer(cars,bikes,buses,day):\n",
    "    print('There were {} cars counted on {}'.format(cars, day))\n",
    "    print('There were {} bikes counted on {}'.format(cars, day))\n",
    "    print('There were {} buses counted on {}'.format(cars, day))\n",
    "\n",
    "traffic_printer(200,50,25,\"Monday\")\n",
    "traffic_printer(150,10,30,\"Tuesday\")"
   ]
  },
  {
   "cell_type": "markdown",
   "metadata": {},
   "source": [
    "If we were to use the `+` operator, our code would get pretty messy quite quickly!"
   ]
  },
  {
   "cell_type": "code",
   "execution_count": null,
   "metadata": {},
   "outputs": [],
   "source": [
    "def traffic_printer(cars, bikes, buses, day):\n",
    "    print('There were ' + str(cars) + ' cars counted on ' + day)\n",
    "    print('There were ' + str(bikes) + ' bikes counted on ' + day)\n",
    "    print('There were ' + str(buses) + ' buses counted on ' + day)\n",
    "\n",
    "traffic_printer(200,50,25,\"Monday\")"
   ]
  },
  {
   "cell_type": "markdown",
   "metadata": {},
   "source": [
    "#### Docstrings and help()"
   ]
  },
  {
   "cell_type": "markdown",
   "metadata": {},
   "source": [
    "Now we have a fairly cool function! However when we call the help() function on our function, we don't get anything meaningful back:"
   ]
  },
  {
   "cell_type": "code",
   "execution_count": null,
   "metadata": {},
   "outputs": [],
   "source": [
    "help(traffic_printer)"
   ]
  },
  {
   "cell_type": "markdown",
   "metadata": {},
   "source": [
    "This is because we haven't defined a 'docstring'. This is easily accomploished via writing a multiline comment in the function like so:"
   ]
  },
  {
   "cell_type": "code",
   "execution_count": null,
   "metadata": {},
   "outputs": [],
   "source": [
    "def traffic_printer(cars,bikes,buses,day):\n",
    "    ''' \n",
    "    Prints the number of cars, \n",
    "    bikes and buses counted on the specified day \n",
    "    '''\n",
    "\n",
    "    print(\"There were %s cars counted on %s\"  % (cars,day))\n",
    "    print(\"There were %s bikes counted on %s\" % (bikes,day))\n",
    "    print(\"There were %s buses counted on %s\" % (buses,day))"
   ]
  },
  {
   "cell_type": "code",
   "execution_count": null,
   "metadata": {},
   "outputs": [],
   "source": [
    "help(traffic_printer)"
   ]
  },
  {
   "cell_type": "markdown",
   "metadata": {},
   "source": [
    "#### All about if, elif, else and return"
   ]
  },
  {
   "cell_type": "markdown",
   "metadata": {},
   "source": [
    "We can also use logic in functions with the `if` and `elif` statements. Also, the `return` statement can be used to make the function return a value.\n",
    "\n",
    "Note that return differs from print in that:\n",
    "\n",
    "* `print()` is for the benefit of the user; You're telling Python to output something for you to see.\n",
    "* `return` is how a function gives back a value which can be further used in your code, for example assigning to a value, performing a calculation etc.\n",
    "\n",
    "A good example of this is below:"
   ]
  },
  {
   "cell_type": "code",
   "execution_count": null,
   "metadata": {},
   "outputs": [],
   "source": [
    "cars_vol = 100\n",
    "bikes_vol = 50\n",
    "buses_vol = 25\n",
    "\n",
    "def traffic_returner(vehicle):\n",
    "    ''' \n",
    "    Prints the number of cars, bikes and buses counted on the specified day\n",
    "    '''\n",
    "    if vehicle == 'cars':\n",
    "        return cars_vol\n",
    "    elif vehicle == 'bikes':\n",
    "        return bikes_vol\n",
    "    elif vehicle == 'buses':\n",
    "        return buses_vol\n",
    "    else:\n",
    "        return 'error'"
   ]
  },
  {
   "cell_type": "markdown",
   "metadata": {},
   "source": [
    "We can test the function as follows:"
   ]
  },
  {
   "cell_type": "code",
   "execution_count": null,
   "metadata": {},
   "outputs": [],
   "source": [
    "print(\n",
    "    traffic_returner('cars'),\n",
    "    traffic_returner('bikes'),\n",
    "    traffic_returner('buses')\n",
    ")"
   ]
  },
  {
   "cell_type": "markdown",
   "metadata": {},
   "source": [
    "It will also return an error in the event that our input parameter is incorrect:"
   ]
  },
  {
   "cell_type": "code",
   "execution_count": null,
   "metadata": {},
   "outputs": [],
   "source": [
    "traffic_returner('boats')"
   ]
  },
  {
   "cell_type": "markdown",
   "metadata": {},
   "source": [
    "The return function allows us to use the output values in further processing:"
   ]
  },
  {
   "cell_type": "code",
   "execution_count": null,
   "metadata": {},
   "outputs": [],
   "source": [
    "traffic_returner('cars') + traffic_returner('bikes')"
   ]
  },
  {
   "cell_type": "markdown",
   "metadata": {},
   "source": [
    "However this can have unexpected results!!"
   ]
  },
  {
   "cell_type": "code",
   "execution_count": null,
   "metadata": {},
   "outputs": [],
   "source": [
    "traffic_returner('casr') + traffic_returner('bikse')"
   ]
  },
  {
   "cell_type": "markdown",
   "metadata": {},
   "source": [
    "## Scope"
   ]
  },
  {
   "cell_type": "markdown",
   "metadata": {},
   "source": [
    "What happens when we try and call an input parameter for a function outside of that function?"
   ]
  },
  {
   "cell_type": "code",
   "execution_count": null,
   "metadata": {},
   "outputs": [],
   "source": [
    "def traffic_printer(cars,bikes,buses,day):\n",
    "    '''\n",
    "    Prints the number of cars, bikes and buses counted on the specified day\n",
    "    '''\n",
    "    \n",
    "    print(\"There were {} cars counted on {}\".format(cars,day))\n",
    "    print(\"There were {} bikes counted on {}\".format(bikes,day))\n",
    "    print(\"There were {} buses counted on {}\".format(buses,day))\n",
    "\n",
    "traffic_printer(200,50,25,\"Monday\")\n",
    "print(cars)"
   ]
  },
  {
   "cell_type": "markdown",
   "metadata": {},
   "source": [
    "The print fails because the cars variable has been defined within the `traffic_printer` function and can only be used there. This is because of a programming term called **scope**. I don't want to delve too much into scope as it gets quite complicated quite quickly but it is important to understand the difference between the **global scope** (i.e. outside the function) and the **local scope** (i.e. inside a function).\n",
    "\n",
    "\n",
    "To illustrate how scope works we'll define a `cars` variable in the **global scope** and set it to a value of `300`.  \n",
    "We can then run our `traffic_printer` function which also has a `cars` variable with a value of `200`, however this is in the **local scope** of the function."
   ]
  },
  {
   "cell_type": "code",
   "execution_count": null,
   "metadata": {},
   "outputs": [],
   "source": [
    "cars = 300\n",
    "traffic_printer(cars=200, bikes=50, buses=25, day=\"Monday\")\n",
    "\n",
    "print(\"The global value for cars is %s\" % cars)"
   ]
  },
  {
   "cell_type": "markdown",
   "metadata": {},
   "source": [
    "Python prioritises the **local scope** variable over the **global scope** variable within the function. This is also called the **LEGB rule** and relates largely to what priority Python gives variables based upon where they're assigned:\n",
    "\n",
    "* L, Local — Names assigned in any way within a function (def or lambda)), and not declared global in that function.\n",
    "* E, Enclosing function locals — Name in the local scope of any and all enclosing functions (def or lambda), from inner to outer.\n",
    "* G, Global (module) — Names assigned at the top-level of a module file, or declared global in a def within the file.\n",
    "* B, Built-in (Python) — Names preassigned in the built-in names module.\n",
    "\n",
    "Don't worry if you don't get a lot of this straight away! For now, the key things to take away are:\n",
    "\n",
    "* Variables defined in a function are only available in the function.\n",
    "* It's not a good idea to have separate locally and globally scoped variables with the same name\n",
    "* If you want to make a value available outside of a function in Python, you should use a `return` statement to make it available outside of the function like so:"
   ]
  },
  {
   "cell_type": "code",
   "execution_count": null,
   "metadata": {},
   "outputs": [],
   "source": [
    "def traffic_returner(cars,bikes,buses):\n",
    "    '''\n",
    "    Returns the number of cars, bikes and buses counted on the specified day\n",
    "    '''\n",
    "    return cars, bikes, buses\n",
    "\n",
    "cars, bikes, buses = traffic_returner(200, 50, 25)\n",
    "print(cars, bikes, buses)"
   ]
  },
  {
   "cell_type": "markdown",
   "metadata": {},
   "source": [
    "#### Resources"
   ]
  },
  {
   "cell_type": "markdown",
   "metadata": {},
   "source": [
    "[Python Scoping Rules](http://stackoverflow.com/questions/291978/short-description-of-python-scoping-rules)  \n",
    "[Understanding LEGB](https://blog.mozilla.org/webdev/2011/01/31/python-scoping-understanding-legb/)  \n",
    "[PEP 8](https://www.python.org/dev/peps/pep-0008/)"
   ]
  }
 ],
 "metadata": {
  "anaconda-cloud": {},
  "kernelspec": {
   "display_name": "Python 3",
   "language": "python",
   "name": "python3"
  },
  "language_info": {
   "codemirror_mode": {
    "name": "ipython",
    "version": 3
   },
   "file_extension": ".py",
   "mimetype": "text/x-python",
   "name": "python",
   "nbconvert_exporter": "python",
   "pygments_lexer": "ipython3",
   "version": "3.7.2"
  },
  "toc": {
   "base_numbering": 1,
   "nav_menu": {},
   "number_sections": true,
   "sideBar": true,
   "skip_h1_title": false,
   "title_cell": "Table of Contents",
   "title_sidebar": "Contents",
   "toc_cell": false,
   "toc_position": {},
   "toc_section_display": true,
   "toc_window_display": false
  }
 },
 "nbformat": 4,
 "nbformat_minor": 1
}
