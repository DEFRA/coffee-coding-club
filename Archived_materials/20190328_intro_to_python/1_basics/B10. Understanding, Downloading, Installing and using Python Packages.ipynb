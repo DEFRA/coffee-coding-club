{
 "cells": [
  {
   "cell_type": "markdown",
   "metadata": {},
   "source": [
    "# B10: Understanding, Downloading, Installing and using Python Packages"
   ]
  },
  {
   "cell_type": "markdown",
   "metadata": {},
   "source": [
    "We've now reached the end of the Python basics. Well done for making it this far and I've no doubt that some of you are thinking 'Learning Python is all well and good, but when are we going to do some fun stuff with data and graphs?'. \n",
    "\n",
    "Well you'll be pleased to hear that this starts very soon, but first we have to teach you some more practical stuff about Python so you're well equipped to deal with the second (and more fun!) part of the course."
   ]
  },
  {
   "cell_type": "markdown",
   "metadata": {},
   "source": [
    "## Packages (aka modules, libraries, extensions etc...)"
   ]
  },
  {
   "cell_type": "markdown",
   "metadata": {},
   "source": [
    "From here onward I'm going to talk more about Python 'packages'. These are essentially extensions to Python functionality that enable Python to do some pretty specialised tasks. They're also referred to by a multitude of other names, including libraries, extensions, modules etc. You needn't get confused by this as they're all essentially talking about the same thing!"
   ]
  },
  {
   "cell_type": "markdown",
   "metadata": {},
   "source": [
    "## Built in Packages"
   ]
  },
  {
   "cell_type": "markdown",
   "metadata": {},
   "source": [
    "Python comes with some packages built in to the basic installation. A few of the more commonly used ones are as follows:\n",
    "\n",
    "* [Data Types](https://docs.python.org/3/library/datatypes.html)  \n",
    "* [Numeric & Mathematical Models](https://docs.python.org/3/library/numeric.html)  \n",
    "* [Functional Programming](https://docs.python.org/3/library/functional.html)  \n",
    "* [File / Directory Access](https://docs.python.org/3/library/filesys.html)  \n",
    "* [File Formats](https://docs.python.org/3/library/fileformats.html)\n",
    "\n",
    "There are many more and we won't be exploring these in much greater depth here as the packages we'll meet later contain more relevent functionality to our role as data analysts.\n",
    "\n",
    "However you can explore the Python standard library (aka everything that comes with the basic Python installation) [here](https://docs.python.org/3/library/)"
   ]
  },
  {
   "cell_type": "markdown",
   "metadata": {},
   "source": [
    "## External Packages"
   ]
  },
  {
   "cell_type": "markdown",
   "metadata": {},
   "source": [
    "There are literally thousands of community developed Python packages out there. A good place to see what's available is [PyPI](https://pypi.python.org/pypi) (Python Package Index) however note that this isn't an exhaustive list and you can find some elsewhere on sites such as [Github](http://github.com/).\n",
    "\n",
    "To install Python packages, you'll need access to the command line environment, which is typically restricted on corporate IT networks, meaning you'll have to get your IT department to do it for you, or use standalone IT with full administrator rights.\n",
    "\n",
    "[Using the command line environment](http://www.computerhope.com/issues/chusedos.htm) can take some getting used to but you really only need to know a little bit to get by to being with. It's also worth noting that you can execute Python Scripts [from the command line](http://pythoncentral.io/execute-python-script-file-shell/) too.\n",
    "\n",
    "We'll be looking at how to install packages via the command line in a little bit!"
   ]
  },
  {
   "cell_type": "markdown",
   "metadata": {},
   "source": [
    "## Anaconda"
   ]
  },
  {
   "cell_type": "markdown",
   "metadata": {},
   "source": [
    "We introduced Anaconda at the beginning of the couse and if you remember it's a collection of 400 or so Python packages used for data analysis, data science and visualisation. You could of course download all of these from PyPI however the Anaconda installation is a lot quicker to download and install, comes with some nice extras (such as Jupyter and Spyder) and gets around a lot of the compatability issues and bugs that come with open source software.\n",
    "\n",
    "As such we already have most of the packages we need to do data analysis installed for us however there will always be times when we need a new package to do something else!"
   ]
  },
  {
   "cell_type": "markdown",
   "metadata": {},
   "source": [
    "## Installing New Packages"
   ]
  },
  {
   "cell_type": "markdown",
   "metadata": {},
   "source": [
    "Installing new packages on Python isn't done in the traditional manner of downloading .exe files and double clicking. Instead you'll need to use the conda and pip commands. This can sound daunting but really it isn't! All you have to do is open the command line prompt and type:"
   ]
  },
  {
   "cell_type": "raw",
   "metadata": {},
   "source": [
    "pip install"
   ]
  },
  {
   "cell_type": "markdown",
   "metadata": {},
   "source": [
    "followed by the name of the package."
   ]
  },
  {
   "cell_type": "markdown",
   "metadata": {},
   "source": [
    "So if we wanted to install Django, we would type:"
   ]
  },
  {
   "cell_type": "raw",
   "metadata": {},
   "source": [
    "pip install django"
   ]
  },
  {
   "cell_type": "markdown",
   "metadata": {},
   "source": [
    "and this will automatically download and install the Django package for us. If you have the Anaconda installation installed you can use the conda package manager to install a package as follows:"
   ]
  },
  {
   "cell_type": "raw",
   "metadata": {},
   "source": [
    "pip install django"
   ]
  },
  {
   "cell_type": "markdown",
   "metadata": {},
   "source": [
    "Conda and pip are [Package managers](https://en.wikipedia.org/wiki/Pip_%28package_manager%29) for Python and are linked to the PyPI site above. However in some cases you'll want to install a package that's not on PyPI, or it is but for some reason it's incompatible with your system (welcome to the wonderful world of open source!) and in such cases you'll want to download the source code as a .zip or .tar file and [Install it manually](http://www.instructables.com/id/How-to-install-Python-packages-on-Windows-7/), although it's worth noting that Mac OSX and Linux tend to be far more reliable platforms for installing Python packages than windows.\n",
    "\n",
    "\n",
    "As a general rule, it's probably better to use pip to install packages wherever possible as using conda can create conflicts."
   ]
  },
  {
   "cell_type": "markdown",
   "metadata": {},
   "source": [
    "## Updating Packages"
   ]
  },
  {
   "cell_type": "markdown",
   "metadata": {},
   "source": [
    "Python packages are not static and undergo frequent updates to fix bigs, create new functionality, integrate better with other packages etc. As such you'll need to make sure that you update your packages on a regular basis. Fortunately this is accomplished very easily as follows:"
   ]
  },
  {
   "cell_type": "raw",
   "metadata": {},
   "source": [
    "pip install <package name> --upgrade"
   ]
  },
  {
   "cell_type": "markdown",
   "metadata": {},
   "source": [
    "## Using Packages"
   ]
  },
  {
   "cell_type": "markdown",
   "metadata": {},
   "source": [
    "To get us started we'll import the pandas package. This is the backbone of the Anaconda installation and allows us to collect, import, display, wrangle, model, export, visualise and generally play with data!"
   ]
  },
  {
   "cell_type": "code",
   "execution_count": 1,
   "metadata": {},
   "outputs": [],
   "source": [
    "import pandas"
   ]
  },
  {
   "cell_type": "markdown",
   "metadata": {},
   "source": [
    "Once imported we can start using our library!"
   ]
  },
  {
   "cell_type": "code",
   "execution_count": 2,
   "metadata": {},
   "outputs": [
    {
     "data": {
      "text/html": [
       "<div>\n",
       "<table border=\"1\" class=\"dataframe\">\n",
       "  <thead>\n",
       "    <tr style=\"text-align: right;\">\n",
       "      <th></th>\n",
       "      <th>0</th>\n",
       "    </tr>\n",
       "  </thead>\n",
       "  <tbody>\n",
       "    <tr>\n",
       "      <th>A</th>\n",
       "      <td>1</td>\n",
       "    </tr>\n",
       "    <tr>\n",
       "      <th>B</th>\n",
       "      <td>2</td>\n",
       "    </tr>\n",
       "    <tr>\n",
       "      <th>C</th>\n",
       "      <td>3</td>\n",
       "    </tr>\n",
       "    <tr>\n",
       "      <th>D</th>\n",
       "      <td>4</td>\n",
       "    </tr>\n",
       "    <tr>\n",
       "      <th>E</th>\n",
       "      <td>5</td>\n",
       "    </tr>\n",
       "  </tbody>\n",
       "</table>\n",
       "</div>"
      ],
      "text/plain": [
       "   0\n",
       "A  1\n",
       "B  2\n",
       "C  3\n",
       "D  4\n",
       "E  5"
      ]
     },
     "execution_count": 2,
     "metadata": {},
     "output_type": "execute_result"
    }
   ],
   "source": [
    "# Creating some dummy data\n",
    "\n",
    "data1 = [1,2,3,4,5]\n",
    "data2 = ['A','B','C','D','E']\n",
    "\n",
    "# Using the pandas library\n",
    "\n",
    "df = pandas.DataFrame(data1,data2)\n",
    "df"
   ]
  },
  {
   "cell_type": "markdown",
   "metadata": {},
   "source": [
    "Notice how we accessed the library by typing 'pandas.' followed by the DataFrame function. This is standard for all libraries that you'll use. However there's a few extra things you should be aware of when importing modules!"
   ]
  },
  {
   "cell_type": "markdown",
   "metadata": {},
   "source": [
    "### Conventions"
   ]
  },
  {
   "cell_type": "markdown",
   "metadata": {},
   "source": [
    "When importing code, import conventions are used as a shortcut to save on typing and keep code succinct. The pandas import convention is as follows:"
   ]
  },
  {
   "cell_type": "code",
   "execution_count": 3,
   "metadata": {
    "collapsed": true
   },
   "outputs": [],
   "source": [
    "import pandas as pd"
   ]
  },
  {
   "cell_type": "markdown",
   "metadata": {},
   "source": [
    "This changes our code above to:"
   ]
  },
  {
   "cell_type": "code",
   "execution_count": 12,
   "metadata": {},
   "outputs": [
    {
     "data": {
      "text/html": [
       "<div>\n",
       "<table border=\"1\" class=\"dataframe\">\n",
       "  <thead>\n",
       "    <tr style=\"text-align: right;\">\n",
       "      <th></th>\n",
       "      <th>0</th>\n",
       "    </tr>\n",
       "  </thead>\n",
       "  <tbody>\n",
       "    <tr>\n",
       "      <th>A</th>\n",
       "      <td>1</td>\n",
       "    </tr>\n",
       "    <tr>\n",
       "      <th>B</th>\n",
       "      <td>2</td>\n",
       "    </tr>\n",
       "    <tr>\n",
       "      <th>C</th>\n",
       "      <td>3</td>\n",
       "    </tr>\n",
       "    <tr>\n",
       "      <th>D</th>\n",
       "      <td>4</td>\n",
       "    </tr>\n",
       "    <tr>\n",
       "      <th>E</th>\n",
       "      <td>5</td>\n",
       "    </tr>\n",
       "  </tbody>\n",
       "</table>\n",
       "</div>"
      ],
      "text/plain": [
       "   0\n",
       "A  1\n",
       "B  2\n",
       "C  3\n",
       "D  4\n",
       "E  5"
      ]
     },
     "execution_count": 12,
     "metadata": {},
     "output_type": "execute_result"
    }
   ],
   "source": [
    "df = pd.DataFrame(data1,data2)\n",
    "df"
   ]
  },
  {
   "cell_type": "markdown",
   "metadata": {},
   "source": [
    "As we can see this makes our code a little bit more succinct, means we have to type less and reduces scope for error through typos etc.\n",
    "\n",
    "You may have also noticed that when we first imported the pandas library it took a while to run. This is because pandas is a large package with a lot in it. When you import several packages and start playing with lots of data, you might find that your system slows down or experiences crashes etc. One way around this is to just import the specific parts of a package that you need.\n",
    "\n",
    "For example if we only wanted to use the DataFrame function from pandas we could do:"
   ]
  },
  {
   "cell_type": "code",
   "execution_count": 4,
   "metadata": {},
   "outputs": [],
   "source": [
    "from pandas import DataFrame"
   ]
  },
  {
   "cell_type": "markdown",
   "metadata": {},
   "source": [
    "This would change our code to:"
   ]
  },
  {
   "cell_type": "code",
   "execution_count": 13,
   "metadata": {},
   "outputs": [
    {
     "data": {
      "text/html": [
       "<div>\n",
       "<table border=\"1\" class=\"dataframe\">\n",
       "  <thead>\n",
       "    <tr style=\"text-align: right;\">\n",
       "      <th></th>\n",
       "      <th>0</th>\n",
       "    </tr>\n",
       "  </thead>\n",
       "  <tbody>\n",
       "    <tr>\n",
       "      <th>A</th>\n",
       "      <td>1</td>\n",
       "    </tr>\n",
       "    <tr>\n",
       "      <th>B</th>\n",
       "      <td>2</td>\n",
       "    </tr>\n",
       "    <tr>\n",
       "      <th>C</th>\n",
       "      <td>3</td>\n",
       "    </tr>\n",
       "    <tr>\n",
       "      <th>D</th>\n",
       "      <td>4</td>\n",
       "    </tr>\n",
       "    <tr>\n",
       "      <th>E</th>\n",
       "      <td>5</td>\n",
       "    </tr>\n",
       "  </tbody>\n",
       "</table>\n",
       "</div>"
      ],
      "text/plain": [
       "   0\n",
       "A  1\n",
       "B  2\n",
       "C  3\n",
       "D  4\n",
       "E  5"
      ]
     },
     "execution_count": 13,
     "metadata": {},
     "output_type": "execute_result"
    }
   ],
   "source": [
    "df = DataFrame(data1,data2)\n",
    "df"
   ]
  },
  {
   "cell_type": "markdown",
   "metadata": {},
   "source": [
    "We could also use a convention if we wanted..."
   ]
  },
  {
   "cell_type": "code",
   "execution_count": 5,
   "metadata": {
    "collapsed": true
   },
   "outputs": [],
   "source": [
    "from pandas import DataFrame as DF"
   ]
  },
  {
   "cell_type": "markdown",
   "metadata": {},
   "source": [
    "Which would change our code to..."
   ]
  },
  {
   "cell_type": "code",
   "execution_count": 7,
   "metadata": {},
   "outputs": [
    {
     "data": {
      "text/html": [
       "<div>\n",
       "<table border=\"1\" class=\"dataframe\">\n",
       "  <thead>\n",
       "    <tr style=\"text-align: right;\">\n",
       "      <th></th>\n",
       "      <th>0</th>\n",
       "    </tr>\n",
       "  </thead>\n",
       "  <tbody>\n",
       "    <tr>\n",
       "      <th>A</th>\n",
       "      <td>1</td>\n",
       "    </tr>\n",
       "    <tr>\n",
       "      <th>B</th>\n",
       "      <td>2</td>\n",
       "    </tr>\n",
       "    <tr>\n",
       "      <th>C</th>\n",
       "      <td>3</td>\n",
       "    </tr>\n",
       "    <tr>\n",
       "      <th>D</th>\n",
       "      <td>4</td>\n",
       "    </tr>\n",
       "    <tr>\n",
       "      <th>E</th>\n",
       "      <td>5</td>\n",
       "    </tr>\n",
       "  </tbody>\n",
       "</table>\n",
       "</div>"
      ],
      "text/plain": [
       "   0\n",
       "A  1\n",
       "B  2\n",
       "C  3\n",
       "D  4\n",
       "E  5"
      ]
     },
     "execution_count": 7,
     "metadata": {},
     "output_type": "execute_result"
    }
   ],
   "source": [
    "df = DF(data1,data2)\n",
    "df"
   ]
  },
  {
   "cell_type": "markdown",
   "metadata": {},
   "source": [
    "However we don't have to do this, and non standard conventions like the one above can make things confusing for others picking up your code... Remember... Readability counts!\n",
    "\n",
    "Anyways as we've seen, there's nothing to fear from packages and they are relatively simple to use and get your head round."
   ]
  },
  {
   "cell_type": "markdown",
   "metadata": {},
   "source": [
    "## Further Reading"
   ]
  },
  {
   "cell_type": "markdown",
   "metadata": {},
   "source": [
    "Lastly, below are links to more information on some of the more widely used Python packages. Feel free to explore these at your leisure although we will be meeting some a bit later in the course. Note that most of these come with Anaconda.\n",
    "\n",
    "* [Pandas](http://pandas.pydata.org/) Data Analysis\n",
    "* [Numpy](http://www.numpy.org/) Maths and Statistics  \n",
    "* [Scipy](http://www.scipy.org/) Scientific Computing\n",
    "* [Scikit Learn](http://scikit-learn.org/) Machine Learning\n",
    "* [Requests](http://docs.python-requests.org/en/master/) HTTP Requests\n",
    "* [Beautiful Soup](https://www.crummy.com/software/BeautifulSoup) Web Scraping  \n",
    "* [Django](https://www.djangoproject.com/) Web Development  \n",
    "* [Flask](http://flask.pocoo.org/) Web development  \n",
    "* [PIL](http://www.pythonware.com/products/pil) and [Pillow](https://pillow.readthedocs.org/en/3.1.x/) Image Analysis\n",
    "* [Matplotlib](http://matplotlib.org/) Static Charting  \n",
    "* [Seaborn](https://stanford.edu/~mwaskom/software/seaborn/) Statistical Charting\n",
    "* [Bokeh](http://bokeh.pydata.org/en/latest/) Interactive Charting  \n",
    "* [Plotly](https://plot.ly/python) Interactive Charting  "
   ]
  }
 ],
 "metadata": {
  "anaconda-cloud": {},
  "kernelspec": {
   "display_name": "Python 3",
   "language": "python",
   "name": "python3"
  },
  "language_info": {
   "codemirror_mode": {
    "name": "ipython",
    "version": 3
   },
   "file_extension": ".py",
   "mimetype": "text/x-python",
   "name": "python",
   "nbconvert_exporter": "python",
   "pygments_lexer": "ipython3",
   "version": "3.6.4"
  }
 },
 "nbformat": 4,
 "nbformat_minor": 1
}
