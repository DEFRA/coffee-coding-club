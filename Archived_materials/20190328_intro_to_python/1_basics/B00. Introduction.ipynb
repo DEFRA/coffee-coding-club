{
 "cells": [
  {
   "cell_type": "markdown",
   "metadata": {},
   "source": [
    "# B00: Introduction"
   ]
  },
  {
   "cell_type": "markdown",
   "metadata": {},
   "source": [
    "Welcome to the Python for analysts training course!\n",
    "\n",
    "This course is aimed at existing analysts who have some experience using analytical software (e.g. SAS, SPSS, STATA, Matlab etc.) who want to learn Python."
   ]
  },
  {
   "cell_type": "markdown",
   "metadata": {},
   "source": [
    "## So what is Python?"
   ]
  },
  {
   "cell_type": "markdown",
   "metadata": {},
   "source": [
    "Python is an open source programming language created by a guy called Guido van Rossum in 1989. He now works for Google and was up until recently Python's BDFL or Benevolent Dictator For Life. This mean that he was in charge of the development of the language, however this is now handled by a group of core Python developers. Development of Python is done (in conjunction with the user community of course!) via PEPs or Python Enhancement Protocols. You can read these at www.Python.org but two great examples are PEP 8 and PEP 20.\n",
    "\n",
    "[PEP 8](https://www.python.org/dev/peps/pep-0008/)  \n",
    "[PEP 20](https://www.python.org/dev/peps/pep-0020/)  \n",
    "\n",
    "\n",
    "Over time Python has been developed by its user community and is now recognised as one of the 'big 2' programming languages for Data Science, the other being R.\n",
    "\n",
    "Python is:\n",
    "\n",
    "* an easy and intuitive language just as powerful as major competitors\n",
    "\n",
    "* open source, so anyone can contribute to its development\n",
    "    \n",
    "* code that is as understandable as plain English\n",
    "    \n",
    "* suitability for everyday tasks, allowing for short development times\n",
    "\n",
    "* named after Monty Python's Flying Circus\n",
    "\n",
    "From time to time you'll also hear that Python is an Object Orientated Programming (OOP) language. You don't have to worry about this when you're starting out and for the most part it will operate in a similar manner to other statistical and analytical software that you may have used.\n"
   ]
  },
  {
   "cell_type": "markdown",
   "metadata": {},
   "source": [
    "## What makes Python so great?"
   ]
  },
  {
   "cell_type": "markdown",
   "metadata": {},
   "source": [
    "* It's free\n",
    "\n",
    "* It's syntactically simple\n",
    "\n",
    "* It's open source\n",
    "\n",
    "* It has an energised user community\n",
    "\n",
    "* Easy to get answers to questions (e.g. Stack Overflow)\n",
    "\n",
    "* Its capability can be extended with packages (also called libraries, modules, extensions etc.)\n",
    "\n",
    "* It can do so many things (e.g. Data, Statistics, Modeling, Visualisation, Web development...)"
   ]
  },
  {
   "cell_type": "markdown",
   "metadata": {},
   "source": [
    "## I hear there are different versions of Python... What's up with that?"
   ]
  },
  {
   "cell_type": "markdown",
   "metadata": {},
   "source": [
    "Yes, there are two versions of Python in use: Versions 2 and 3. The differences are subtle and when you're starting out this needn't concern you too much.\n",
    "\n",
    "It's fair to say that up until recently Version 2 was probably slightly more used, however Python 3 has overtaken it in terms of popularity and since we're picking up Python from scratch with this training, it's better to use version 3.\n",
    "\n",
    "Additionally the Python Data community (Pydata for short) are pushing people toward version 3 of the language."
   ]
  },
  {
   "cell_type": "markdown",
   "metadata": {},
   "source": [
    "## Extending Python"
   ]
  },
  {
   "cell_type": "markdown",
   "metadata": {},
   "source": [
    "It's safe to say that on its own Python is pretty useless for Data Science. However, over time the user community has developed a number of packages or libraries for Python. These extend the core functionality and enbable users to do a wider variety of things with it."
   ]
  },
  {
   "cell_type": "markdown",
   "metadata": {},
   "source": [
    "Good examples of packages for Python include:\n",
    "\n",
    "* **Pandas** for data analysis\n",
    "\n",
    "* **Numpy** for Mathmatical functions\n",
    "\n",
    "* **Scipy** for Scientific computing and statistics\n",
    "\n",
    "* **Matplotlib** for data visualisation\n",
    "\n",
    "We'll be covering some of these later in the course!"
   ]
  },
  {
   "cell_type": "markdown",
   "metadata": {},
   "source": [
    "## Anaconda"
   ]
  },
  {
   "cell_type": "markdown",
   "metadata": {},
   "source": [
    "The Anaconda Installation is produced and maintained by a company called <a href = \"https://www.continuum.io/\">Continuum Analytics</a> and gathers together 400 or so of the most used Python packages and libraries for data analysts and scientists and is pretty much a one stop shop for everything you need to get started.\n",
    "\n",
    "One of the drawbacks to open source software is that does tend to have compatability issues sometimes and this can lead to problems installing. Anaconda gets around all of this so it will be our starting point for our Python Journey."
   ]
  },
  {
   "cell_type": "markdown",
   "metadata": {},
   "source": [
    "## Set up"
   ]
  },
  {
   "cell_type": "markdown",
   "metadata": {},
   "source": [
    "### For the session today (Google Colab)"
   ]
  },
  {
   "cell_type": "markdown",
   "metadata": {},
   "source": [
    "We are going to be using <a href = \"https://colab.research.google.com\">Google Colab </a> for our training session today. It lets us run and see the output of python code in your browser window and will let us cheat a bit by running python code without having anything special installed on our laptops. \n",
    "\n",
    "* If you don't already have a Google account please sign up for one now.\n",
    "* If you are using this in the future please note that Google colab should **not** be used on sensitive data"
   ]
  },
  {
   "cell_type": "markdown",
   "metadata": {},
   "source": [
    "### Setting up your local machine"
   ]
  },
  {
   "cell_type": "markdown",
   "metadata": {},
   "source": [
    "To set up python on your machine after this session you need to set up a HEAT request to install the latest version on Anaconda. This should give you access to all the main packages you will need(we will discuss what a package is later) but if you need additional ones you will need to raise a further HEAT request."
   ]
  },
  {
   "cell_type": "markdown",
   "metadata": {},
   "source": [
    "## Jupyter"
   ]
  },
  {
   "cell_type": "markdown",
   "metadata": {},
   "source": [
    "You use Google Colab is similar way Jupyter Notebooks, which you can get set up on your laptop after this session. Jupyter notbook is a browser based interface in which you can type and execute code as well as visualise your results and works on your local machine, not the web.\n",
    "\n",
    "What you're reading now is a Jupyter Notebook and it's agreat way to mix up narrative, pictures, data, results and graphs whilst also signposting you to useful information elsewhere."
   ]
  },
  {
   "cell_type": "markdown",
   "metadata": {},
   "source": [
    "## IDEs / Text Editors"
   ]
  },
  {
   "cell_type": "markdown",
   "metadata": {},
   "source": [
    "In addition to the Jupyter Notebook, you'll sometimes here people talk about IDEs and Text Editors.\n",
    "\n",
    "**IDE**\n",
    "\n",
    "IDE stands for 'Integrated Development Environment'. Essentially this is a more advanced interface for interacting with Python than the default Python Console (REPL). IDEs allow us to create, execute, debug and save scripts.\n",
    "\n",
    "**Text Editors**\n",
    "\n",
    "Text editors are just that - tools for creating,  and saving scripts with limited debugging and execution capability. They have the added advantage of being much simpler and many are open source and can be enhanced with packages, the same way in which Python can.\n",
    "\n",
    "**Jupyter**\n",
    "\n",
    "I do much prefer using Jupyter to write and save Python code, particularly when exploring new data.\n",
    "\n",
    "Note that if you want to save down code outside of Jupyter, you'll need to give it a .py suffix. This will tell your system that it's a Python file.\n",
    "\n",
    "Some good text editors include [Atom](https://atom.io/), [Brackets](http://brackets.io/), and [Sublime Text](http://www.sublimetext.com/3), and [Notepad++](https://notepad-plus-plus.org) which we'll also be using in this course and will be meeting a bit later.\n",
    "\n",
    "IDEs are more complicated to use, but a good one to start with is [Spyder](https://pythonhosted.org/spyder/) (Scientific PYthon Development EnviRonment) as this comes as part of Anaconda and is aimed at analytical and scientific users.\n",
    "\n",
    "#### Your Cookbook\n",
    "\n",
    "Learning & remembering all the syntax of Python is difficult! This gets worse as you branch out into other languages...\n",
    "\n",
    "The first file you'll create will be your 'Cookbook'. This will contain all your useful code:\n",
    "\n",
    "* Things you do on a regular basis\n",
    "\n",
    "* Things you do on a not so regular basis\n",
    "\n",
    "* Code that you 'hack' and use from others\n",
    "\n",
    "* Shortcuts, reference, tips and tricks...\n",
    "\n",
    "* Lots of supporting notes!!!\n",
    "\n",
    "I find it a lot easier to save my cookbooks in a text editor, but again this is up to you."
   ]
  },
  {
   "cell_type": "markdown",
   "metadata": {},
   "source": [
    "#### Object Orientated Programming (OOP)"
   ]
  },
  {
   "cell_type": "markdown",
   "metadata": {},
   "source": [
    "You'll hear a lot about Python being an 'Object Orientated Programming' (OOP) language. This is a computer science term and isn't something you need to worry about too much in the scope of this course.\n",
    "\n",
    "For now it's important that you understand, that everything you meet in Python is an 'Object' in the sense that anything can be assigned to a variable or passed as an argument to a function. This may not make sense now, but hopefully will become clearer as the course progresses.\n",
    "\n",
    "There is some further reading on OOP below:\n",
    "\n",
    "[Classes and Object Orientated Programming](https://jeffknupp.com/blog/2014/06/18/improve-your-python-python-classes-and-object-oriented-programming/)  \n",
    "[Object Orientated Programming](http://www.python-course.eu/object_oriented_programming.php)\n",
    "\n",
    "\n"
   ]
  }
 ],
 "metadata": {
  "anaconda-cloud": {},
  "kernelspec": {
   "display_name": "Python 3",
   "language": "python",
   "name": "python3"
  },
  "language_info": {
   "codemirror_mode": {
    "name": "ipython",
    "version": 3
   },
   "file_extension": ".py",
   "mimetype": "text/x-python",
   "name": "python",
   "nbconvert_exporter": "python",
   "pygments_lexer": "ipython3",
   "version": "3.7.2"
  },
  "toc": {
   "base_numbering": 1,
   "nav_menu": {},
   "number_sections": true,
   "sideBar": true,
   "skip_h1_title": false,
   "title_cell": "Table of Contents",
   "title_sidebar": "Contents",
   "toc_cell": false,
   "toc_position": {},
   "toc_section_display": true,
   "toc_window_display": false
  }
 },
 "nbformat": 4,
 "nbformat_minor": 1
}
