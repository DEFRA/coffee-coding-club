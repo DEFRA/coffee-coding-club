{
 "cells": [
  {
   "cell_type": "markdown",
   "metadata": {},
   "source": [
    "## B11: Getting Help, Stack Overflow, Github & Slack"
   ]
  },
  {
   "cell_type": "markdown",
   "metadata": {},
   "source": [
    "Two key terms you'll hear a lot in the open source and programming world are:\n",
    "\n",
    "* Stackoverflow\n",
    "* Github (or Git)\n",
    "\n",
    "These will be two of your best friends so it pays to get introduced to and accquainted with them early on!"
   ]
  },
  {
   "cell_type": "markdown",
   "metadata": {},
   "source": [
    "## StackOverflow"
   ]
  },
  {
   "cell_type": "markdown",
   "metadata": {
    "collapsed": true
   },
   "source": [
    "<img src = \"img/stack.png\">"
   ]
  },
  {
   "cell_type": "markdown",
   "metadata": {
    "collapsed": true
   },
   "source": [
    "Invariably when you are prorgamming, you'll soon find something that won't work, a problem you don't know how to solve, or a concept you're unaware of. It's at these times you'll learn to need to call on the expterise of stackoverflow!\n",
    "\n",
    "<a href = \"http://stackoverflow.com/\">StackOverflow</a> is essentially a Q & A site for computer programmers, system developers, designers, analysts, data scientists etc. Basically anyone and everyone who writes code! \n",
    "\n",
    "At the time of writing this (May 2016) there are:\n",
    "\n",
    "* 3.7m questions\n",
    "* 4.6m answers\n",
    "* 5m registered users\n",
    "* 100m unique visitors each month\n",
    "\n",
    "So, when you're experiencing an issue with Python (or indeed anything else code related) it's quite probable that someone else has experienced the same issue before and asked a question on StackOverflow. In fact, when you google your problem, for example <a href = \"https://www.google.co.uk/search?q=renaming+columns+in+pands&ie=utf-8&oe=utf-8&client=firefox-b-ab&gfe_rd=cr&ei=Dzo3V5uMNobW8Aeuh7iACw#q=renaming+columns+in+pandas\">renaming columns in pandas</a> the first few results are likely to be from StackOverflow.\n",
    "\n",
    "Whilst you'll have your cookbook for code you use often, when you have a problem you can't solve, StackOverflow should be your first port of call.\n",
    "\n",
    "If you can't find an answer, you can also create an account and ask a question. Ususally someone will respond in a <a href = \"http://stackoverflow.com/questions/32904297/creating-pandas-dataframes-with-a-function-of-comprehension\">matter of minutes</a>."
   ]
  },
  {
   "cell_type": "markdown",
   "metadata": {},
   "source": [
    "## Github"
   ]
  },
  {
   "cell_type": "markdown",
   "metadata": {},
   "source": [
    "<img src = \"img/github.jpg\">"
   ]
  },
  {
   "cell_type": "markdown",
   "metadata": {},
   "source": [
    "Github is a little more complicated than StackOverflow and a little harder to explain! To understand Github, you must first understand 'Git'.\n",
    "\n",
    "Git is essentially a version control system for programmers that allows them to keep a record of all their modifications and versions. It also allows multiple people to collaborate on projects without things getting messy. Most people interact with Git and Github through the command line, however you can download <a href = \"https://desktop.github.com/\">Github desktop</a> which allows you to interact with Github via a point and click interface and for many people this is an easier way to get started with it.\n",
    "\n",
    "You'll also hear a ton of jargon associated with Github. For example, commits, merging, branching etc. However there is a good jargon buster <a href = \"https://help.github.com/articles/github-glossary/\">here</a> and one <a href = \"https://www.kernel.org/pub/software/scm/git/docs/gitglossary.html\">here</a> for Git in general.\n",
    "\n",
    "Generally my advice is to create yourself an account, download the Github desktop and go through the <a href = \"https://guides.github.com/introduction/getting-your-project-on-github/\">Github tutorial</a> and most importantly don't be put off by the amount of jargon - it's all really very simple and before long you'll have learnt to love github just as much as StackOverflow!\n",
    "\n",
    "This course is hosted on Github, and should you be so inclined you could go back through its history and see how it's been developed over time (I don't reccomend that you do this - it's not particularly exciting)."
   ]
  },
  {
   "cell_type": "markdown",
   "metadata": {},
   "source": [
    "As most of you will be aware, I am a busy man and generally I will not have the time to help each of you with individual problems with your code. The exceptions to this rule are generally:\n",
    "\n",
    "    Where it's something I've done that's not working (This never happens)\n",
    "    Where you absolutely, positively need it solved there and then and the consequences to not solving it are dire.\n",
    "    \n",
    "\n",
    "If it doesn't fit these criteria then refer to the following list:\n",
    "\n",
    "1) <b>help()</b> Python has excellent built in help. Just stick the function or method you're having an issue with in the brackets.<br/>\n",
    "2) <b>Your Cookbook</b> This is your go to place for syntax and useful code. When I forget syntax I Ctrl + F through my cookbook to find examples. Quicker than a google search.<br/>\n",
    "3) <b>Google</b> Chances are that somebody, somewhere has had exactly the same problem as you and posted about it on the internet...<br/>\n",
    "4) <b>Search Stackoverflow</b> ... and in most cases this will be via stackoverflow. Also using stackoverflow's search function is good too if the google search yielded little.<br/>\n",
    "5) <b>Module Documentation</b> Check the module documentation also! This varies in quality but answers can often be found therein.<br/>\n",
    "6) <b>Github</b> Sometimes if your problem is with a specific package, you can download a fork on Github. This is useful for Python 2/3 conflicts for example.<br/>\n",
    "7) <b>Ask Stackoverflow</b> If you still have nothing, then create a stackoverflow account and ask a question! That's what it's there for.<br/>\n",
    "8) <b>Consider working around it</b> Often the best way past brick walls is to go round them. Is there another package / way to accomplish what you're trying to do?\n",
    "9) <b>Pray</b> Because at this stage, divine intervention is more likely than me being able to help.<br/>\n",
    "10) <b>Consider asking Tom (depending upon his mood) or Behnom (if Tom is in a bad mood)</b> Genreally we will always try and help you but if the minds of stackoverflow cannot solve your issue then it's unlikely we'll be able to. At best we might be able to suggest an alternative.<br/>"
   ]
  },
  {
   "cell_type": "markdown",
   "metadata": {},
   "source": [
    "## Slack and the Govdatascience Community"
   ]
  },
  {
   "cell_type": "markdown",
   "metadata": {},
   "source": [
    "<img src = \"img/slack.png\">"
   ]
  },
  {
   "cell_type": "markdown",
   "metadata": {},
   "source": [
    "There is one other resource open to you, and that's the Government Data Science community Slack board!\n",
    "\n",
    "For those that don't know, Slack is a web-app for messaging and the GovDataScience community is a GDS sponsored and approved community made up of literally hundreds of Government Data Scientists, Analysts and Stat geeks all on there all talking about Python, R, Javascript etc. etc. It's a great place to ask questions, make friends and professional connections.\n",
    "\n",
    "There are also social elements to the community including Slack Beers & Games, Data Science lunches, Communities of Interest and Show and tells.\n",
    "\n",
    "To join, just speak to Tom and he can add you with his ninja like admin privileges!"
   ]
  },
  {
   "cell_type": "markdown",
   "metadata": {},
   "source": [
    "## Further Reading"
   ]
  },
  {
   "cell_type": "markdown",
   "metadata": {},
   "source": [
    "<a href = \"http://www.howtogeek.com/180167/htg-explains-what-is-github-and-what-do-geeks-use-it-for/\">What is Github?</a><br/>\n",
    "<a href = \"https://git-scm.com/book/en/v2/Getting-Started-Git-Basics\">Git Basics</a><br/>\n",
    "<a href = \"https://help.github.com/articles/github-glossary/\">Github Jargon Buster</a><br/>\n",
    "<a href = \"https://guides.github.com/introduction/getting-your-project-on-github/\">Github tutorial</a>"
   ]
  }
 ],
 "metadata": {
  "anaconda-cloud": {},
  "kernelspec": {
   "display_name": "Python [default]",
   "language": "python",
   "name": "python3"
  },
  "language_info": {
   "codemirror_mode": {
    "name": "ipython",
    "version": 3
   },
   "file_extension": ".py",
   "mimetype": "text/x-python",
   "name": "python",
   "nbconvert_exporter": "python",
   "pygments_lexer": "ipython3",
   "version": "3.5.2"
  }
 },
 "nbformat": 4,
 "nbformat_minor": 0
}
