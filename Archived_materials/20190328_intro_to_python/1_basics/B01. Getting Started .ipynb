{
 "cells": [
  {
   "cell_type": "markdown",
   "metadata": {},
   "source": [
    "# B01: Getting Started"
   ]
  },
  {
   "cell_type": "markdown",
   "metadata": {},
   "source": [
    "For now I'm going to assume that you are sat at your computer, eager and ready to go but without Python installed. I'll take you through the steps you need to put Python on your system and start using it.\n",
    "\n",
    "If you do have a version of Python currently installed (especially if it was installed without Anaconda), I would suggest that you remove it and follow the steps below to install the software that this course uses. This will prevent any conflicts on your system and also (hopefully) mean that all the tutorials and examples that the course shows to you will work!"
   ]
  },
  {
   "cell_type": "markdown",
   "metadata": {},
   "source": [
    "#### Python and Anaconda"
   ]
  },
  {
   "cell_type": "markdown",
   "metadata": {},
   "source": [
    "You'll remembed that I mentioned in the previous section that Python was extendable and the user community had developed packages and additional software to support it. An excellent example of this is Anaconda, also known as the Anaconda Installation.\n",
    "\n",
    "Many people have created some excellent packages for Python that have extended its functionality into the realm of data analysis and visualisation.\n",
    "\n",
    "Anaconda gathers 400 or so of these into a single downloadable and executable file which will automatically put everything you need on your PC to allow you to start doing the fun stuff almost immediately."
   ]
  },
  {
   "cell_type": "markdown",
   "metadata": {},
   "source": [
    "As I mentioned previously there are two versions of Python in use, version 2 and 3. As such there are two versions of Anaconda also, Anaconda 2 and Anaconda 3. It's very important that you download and use <strong>Anaconda 3</strong> otherwise there will be parts that do not work! The version of Anaconda that the course has been created with is version 4.0.0. Again, earlier and later versions of Anaconda may experience issues.\n",
    "\n",
    "Before installing you'll need to know if you have a <a href=\"http://windows.microsoft.com/en-us/windows/32-bit-and-64-bit-windows#1TC=windows-7\">32 or 64 bit Windows installation</a> since you'll have to install a specific version of Anaconda:\n",
    "\n",
    "* <a href = \"https://repo.continuum.io/archive/Anaconda3-4.0.0-Windows-x86.exe\">Anaconda 4.0.0 32 bit</a>\n",
    "* <a href = \"https://repo.continuum.io/archive/Anaconda3-4.0.0-Windows-x86_64.exe\">Anaconda 4.0.0 64 bit</a>\n",
    "\n",
    "A complete archive of all the available Anaconda installations, including Apple and Linux versions, are available from <a href = \"https://repo.continuum.io/archive/index.html\">this link</a>\n",
    "\n",
    "Simply download the file and once complete, double click to start the installation process, the same as you would any other file."
   ]
  },
  {
   "cell_type": "markdown",
   "metadata": {},
   "source": [
    "## The Anaconda Launcher"
   ]
  },
  {
   "cell_type": "markdown",
   "metadata": {},
   "source": [
    "Recently Anaconda created the Anaconda Launcher as a way to launch the various applications that come bundled with Anaconda. If you double click it, you'll see the following:\n",
    "\n",
    "<img src = \"img/launcher.jpg\">"
   ]
  },
  {
   "cell_type": "markdown",
   "metadata": {},
   "source": [
    "For now all we're really interested in is the Jupyter Notebook (highlighted with a red box) so select the blue Launch button to start it. Note you can also navigate to the Jupyter icon in the Anaconda directory on the start bar. This will essentially do the same thing.\n",
    "\n",
    "You will also all have a Jupyter Notebook shortcut on your windows start bar. This is a far quicker and easier way to start Jupyter!"
   ]
  },
  {
   "cell_type": "markdown",
   "metadata": {},
   "source": [
    "## Jupyter"
   ]
  },
  {
   "cell_type": "markdown",
   "metadata": {},
   "source": [
    "Jupyter (aka the Jupyter notebook) is the interface that we'll be using for this course. You may also hear this referred to as 'IPython'. Note that this is the old name for Jupyter and is still used by a lot of people when referring to it.\n",
    "\n",
    "Once you've started Jupyter a shell window will open as follows:"
   ]
  },
  {
   "cell_type": "markdown",
   "metadata": {},
   "source": [
    "<img src = \"img/shell.jpg\">"
   ]
  },
  {
   "cell_type": "markdown",
   "metadata": {},
   "source": [
    "All you need to do with this window is <strong>not close it!</strong> \n",
    "\n",
    "Think of this window as the back end to the nice pretty front end that Jupyter provides - it controls something called the Python Kernal (basically an instance of Python) and all we need to do is minimise the window and it will happily run in the background. Once we're done, we can close the window using the red 'X' button as you would any other window."
   ]
  },
  {
   "cell_type": "markdown",
   "metadata": {},
   "source": [
    "A few seconds later, your default internet browser will start and you'll be greeted with the Jupyter landing page. \n",
    "\n",
    "Select 'New' and then under Notebooks 'Python 3'. This will create a blank Jupyter notebook in a new window."
   ]
  },
  {
   "cell_type": "markdown",
   "metadata": {},
   "source": [
    "<img src = \"img/jupyter.jpg\">"
   ]
  },
  {
   "cell_type": "markdown",
   "metadata": {},
   "source": [
    "Alternatively you can open up the course notebooks saved on your desktop by clicking the home icon in the top left and then selecting 'Desktop' from the list of folders. This will then display the course notebooks.\n",
    "\n",
    "Also note that you can view these online as well by going to: http://nbviewer.jupyter.org/github/Tommo565/Python-Training/tree/master/"
   ]
  },
  {
   "cell_type": "markdown",
   "metadata": {},
   "source": [
    "## Interacting with Jupyter"
   ]
  },
  {
   "cell_type": "markdown",
   "metadata": {},
   "source": [
    "Writing code in Jupyter is also easy - simply click in a cell and type. To execute code you can use the run cell button on the toolbar above, or press Ctrl + Enter together. All your notebooks are automatically saved for you every two minutes.\n",
    "\n",
    "Note that the file will be saved in the location where you opened the notebook - this defaults to your root user directory. For the purpose of this course I reccomend that you save your notebooks in the Training folder on your desktop as this will ensure that all your material is kept together.\n",
    "\n",
    "You can access your desktop in Jupyter by clicking the home icon and then the Desktop folder:"
   ]
  },
  {
   "cell_type": "markdown",
   "metadata": {},
   "source": [
    "<img src = \"img/desktop.png\">"
   ]
  },
  {
   "cell_type": "markdown",
   "metadata": {},
   "source": [
    "From there select the Python-training folder and you should see a long list of notebooks that form the course material.\n",
    "\n",
    "If you open a Jupyter notebook whilst in this location, the resulting file will be saved there automatically, and you can rename it by clicking in the appropriate area and overwriting the default text:"
   ]
  },
  {
   "cell_type": "markdown",
   "metadata": {},
   "source": [
    "<img src = \"img/rename.png\">"
   ]
  },
  {
   "cell_type": "markdown",
   "metadata": {},
   "source": [
    "We'll be learning about Jupyter as we go, however there is a great introduction available <a href = \"https://jupyter-notebook-beginner-guide.readthedocs.io/en/latest/\">here</a>."
   ]
  },
  {
   "cell_type": "markdown",
   "metadata": {},
   "source": [
    "## Jupyter Cells"
   ]
  },
  {
   "cell_type": "markdown",
   "metadata": {},
   "source": [
    "Jupyter is made up of cells. Each of these cells can hold either code, markdown or 'raw' text. You can select the type of cell by selecting the appropriate drop down box on the Jupyter menu bar as follows:"
   ]
  },
  {
   "cell_type": "markdown",
   "metadata": {},
   "source": [
    "<img src = \"img/cell type.png\">"
   ]
  },
  {
   "cell_type": "markdown",
   "metadata": {},
   "source": [
    "Code is for your Python code, Markdown is formatted free text, rawNB convert is unformatted text and finally heading is for headings. This helps make your Jupyter notebooks look a lot nicer and it also allows you to add pictures, explanations etc. to your code to aid presentation.\n",
    "\n",
    "You can insert cells by selecting the <strong>Insert</strong> menu item and then selecting insert cell above or insert cell below."
   ]
  },
  {
   "cell_type": "markdown",
   "metadata": {},
   "source": [
    "## Executing Code"
   ]
  },
  {
   "cell_type": "markdown",
   "metadata": {},
   "source": [
    "There are two ways to execute code in Jupyter. The first is to use the Run cell button on the menu bar as follows:"
   ]
  },
  {
   "cell_type": "markdown",
   "metadata": {},
   "source": [
    "<img src = \"img/run cell.png\">"
   ]
  },
  {
   "cell_type": "markdown",
   "metadata": {},
   "source": [
    "The second is to press Shift + Enter together at the same time. If you want to interrupt the execution of the code you can use the interrupt kernel button:"
   ]
  },
  {
   "cell_type": "markdown",
   "metadata": {},
   "source": [
    "<img src = \"img/interrupt.png\">"
   ]
  },
  {
   "cell_type": "markdown",
   "metadata": {},
   "source": [
    "You also have more options to restart and clear the output from the <strong>Kernel</strong> menu item."
   ]
  },
  {
   "cell_type": "markdown",
   "metadata": {},
   "source": [
    "A few more things to note about Jupyter...\n",
    "\n",
    "* Although it operates in a web browser, it's connected to your local machine and not the internet!\n",
    "* It autosaves every few minutes\n",
    "* It saves the notebooks in the directory you were in when you created th notebook.\n",
    "* Files are saved with the extension .ipynb\n",
    "* It integrates very well with servers etc. so you can run it on a virtual machine or server (e.g. AWS)"
   ]
  }
 ],
 "metadata": {
  "anaconda-cloud": {},
  "kernelspec": {
   "display_name": "Python 3",
   "language": "python",
   "name": "python3"
  },
  "language_info": {
   "codemirror_mode": {
    "name": "ipython",
    "version": 3
   },
   "file_extension": ".py",
   "mimetype": "text/x-python",
   "name": "python",
   "nbconvert_exporter": "python",
   "pygments_lexer": "ipython3",
   "version": "3.7.2"
  },
  "toc": {
   "base_numbering": 1,
   "nav_menu": {},
   "number_sections": true,
   "sideBar": true,
   "skip_h1_title": false,
   "title_cell": "Table of Contents",
   "title_sidebar": "Contents",
   "toc_cell": false,
   "toc_position": {},
   "toc_section_display": true,
   "toc_window_display": false
  }
 },
 "nbformat": 4,
 "nbformat_minor": 1
}
