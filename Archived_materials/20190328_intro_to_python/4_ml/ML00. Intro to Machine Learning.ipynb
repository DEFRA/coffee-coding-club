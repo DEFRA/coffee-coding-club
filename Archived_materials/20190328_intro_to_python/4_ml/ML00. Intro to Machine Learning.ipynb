{
 "cells": [
  {
   "cell_type": "markdown",
   "metadata": {},
   "source": [
    "#### ML00: Intro to Machine Learning"
   ]
  },
  {
   "cell_type": "markdown",
   "metadata": {},
   "source": [
    "**Machine Learning**\n",
    "\n",
    "Machine Learning (ML) is the art and science of programming computers to learn from data. There are a number of definitions for ML, two of which are as follows:  \n",
    "<br/><br/>\n",
    "*\"Machine Learning is the field of study that gives computers the ability the learn without being explicitly programmed.\"*  \n",
    "Arthur Samuel 1959\n",
    "<br/><br/> <br/>\n",
    "*\"A computer program is said to learn from experience E with respect to some task T and some performance measure P, if its performance on T, as measured by P, improves with experience E.\"*  \n",
    "Tom Mitchell 1997\n",
    "<br/><br/><br/>\n",
    "Some examples of everyday Machine Learning:  \n",
    "\n",
    "* Email spam filters\n",
    "* Plaigarism checkers\n",
    "* Financial fraud detection\n",
    "* Facial recognition\n",
    "* Snapchat filters  \n",
    "\n",
    "The traditional approach to solving ML problems using traditional techniques is as follows:  \n",
    "![Traditional Approach](../img/traditional-approach.png)\n",
    "<br/><br/><br/>\n",
    "Wheras an ML approach is as follows:\n",
    "![ML Approach](../img/ml-approach.png)\n",
    "\n",
    "To summarize, Machine Learning is great for:\n",
    "* Problems for which existing solutions require a lot of hand-tuning or long lists of rules: one Machine Learning algorithm can often simplify code and perform better.\n",
    "* Complex problems for which there is no good solution at all using a traditional approach: the best Machine Learning techniques can find a solution.\n",
    "* Fluctuating environments: a Machine Learning system can adapt to new data.\n",
    "* Getting insights about complex problems and large amounts of data."
   ]
  },
  {
   "cell_type": "markdown",
   "metadata": {},
   "source": [
    "**Machine Learning Systems**  \n",
    "\n",
    "There are so many different types of ML systems it's useful to classify the, in broad categories as follows:\n",
    "\n",
    "* Whether or not they are trained with Human Supervision (**Supervised**, **Unsupervised**, **semiSupervised**, **Reinforcement Learning**)\n",
    "* Whether or not they can learning incrementally on the fly (**Online Learning**, **Batch Learning**)\n",
    "* Whether they work by comparing new data points to existing data points or detect patterns in the data and build a predictive model (**Instance-Based Learning**, **Model-Based Learning**)\n",
    "\n",
    "These criteria are not exclusive and can be combined."
   ]
  },
  {
   "cell_type": "markdown",
   "metadata": {},
   "source": [
    "**Supervised Learning**\n",
    "\n",
    "In Supervised Learning the training data that you feed into the algoritmn includes the desired solutions. These are called **labels**. A typical supervised learning task is **classification** where is is trained with example classification (e.g. spam or not-spam emails) in order to classify new data.\n",
    "\n",
    "Another task is to predict a **target** numeric value (such as the price of a car), given a set of **predictors** (mileage, age, brand etc.). This sort of task is called **regression** and to train a regression system you need many examples of cars including both their predictors and their **labels** (the values associated with the **predictors**). In Machine Learning an **attribute** is a data type (e.g., “Mileage”), while a **feature** has several meanings depending on the context, but generally means an **attribute** plus its value (e.g., “Mileage = 15,000”). Many people use the words attribute and feature interchangeably.\n",
    "\n",
    "Note that some regression algorithms can be used for classification as well and vice versa. For example **Logistic Regression** is commonly used for classification, as it can output a value that corresponds to the probability of belonging to a given class (e.g., 20% chance of being spam).\n",
    "\n",
    "Some examples of **Supervised Learning** algorithms are as follows:\n",
    "\n",
    "* k-Nearest Neighbours\n",
    "* Linear Regression\n",
    "* Logistic Regression\n",
    "* Support Vector Machines (SVM)\n",
    "* Decision Trees and Random Forests\n",
    "* Neural Networks"
   ]
  },
  {
   "cell_type": "markdown",
   "metadata": {},
   "source": [
    "**Unsupervised Learning**  \n",
    "\n",
    "In Unsupervised Learning, the training data is unlabelled and the system tries to find patterns in the data without being taught.\n",
    "\n",
    "Some examples of **Unsupervised Learning** algorithms are as follows:\n",
    "\n",
    "* Clustering \n",
    "     * k-Means\n",
    "     * Hierarchical Cluster Anaysis (HCA)\n",
    "     * Expectation Maximisation\n",
    "    \n",
    "* Visualisation and Dimensionality Reduction\n",
    "    * Principal Component Analysis (PCA)\n",
    "    * Kernel PCA\n",
    "    * Locally-Linear Embedding (LLE)\n",
    "    * t-Distributed Stochastic Neighbour Embedding (t-SNE)\n",
    "\n",
    "* Association Rule Learning\n",
    "    * Apriori\n",
    "    * Eclat\n",
    "    \n",
    "\n",
    "**Clustering**  \n",
    "\n",
    "For example if you have a lot of data about your blog's visitos you might want to run a **Clustering** algorithm to detect groups of similar visitors. This can help split your data into categories based upon the input data.\n",
    "\n",
    "![Clustering](../img/clustering.png)\n",
    "\n",
    "**t-Distributed Stochastic Neighbour Embedding (t-SNE)**  \n",
    "\n",
    "Visualization algorithms are also good examples of unsupervised learning algorithms: you feed them a lot of complex and unlabeled data, and they output a 2D or 3D representation of your data that can easily be plotted. **t-Distributed Stochastic Neighbour Embedding (t-SNE)** is a good example of this:  \n",
    "\n",
    "![Visualisation](../img/t-SNE.png)\n",
    "\n",
    "**Dimensionality Reduction**  \n",
    "\n",
    "A related task is **Dimensionality Reduction**, in which the goal is to simplify the data without losing too much information. One way to do this is to merge several correlated features into one. For example, a car’s mileage may be very correlated with its age, so the dimensionality reduction algorithm will merge them into one feature that represents the car’s wear and tear. This is called feature extraction.\n",
    "\n",
    "![PCA](../img/pca.png)\n",
    "\n",
    "**Anomaly Detection**  \n",
    "\n",
    "Yet another important unsupervised task is **Anomaly Detection** — for example, detecting unusual credit card transactions to prevent fraud, catching manufacturing defects, or automatically removing outliers from a dataset before feeding it to another learning algorithm. The system is trained with normal instances, and when it sees a new instance it can tell whether it looks like a normal one or whether it is likely an anomaly.\n",
    "\n",
    "![Anomaly Detection](../img/anomaly-detection.png)"
   ]
  },
  {
   "cell_type": "markdown",
   "metadata": {},
   "source": [
    "**Semisupervised learning**  \n",
    "\n",
    "Some algorithms can deal with partially labeled training data, usually a lot of unlabeled data and a little bit of labeled data. This is called **Semisupervised learning** learning.\n",
    "\n",
    "Some photo-hosting services, such as Google Photos, are good examples of this. Once you upload all your family photos to the service, it automatically recognizes that the same person A shows up in photos 1, 5,and 11, while another person B shows up in photos 2, 5, and 7. This is the unsupervised part of the algorithm (clustering). Now all the system needs is for you to tell it who these people are. Just one label per person, 4 and it is able to name everyone in every photo, which is useful for searching photos.  \n",
    "\n",
    "![Semisupervised learning](../img/ssl.jpg)"
   ]
  },
  {
   "cell_type": "markdown",
   "metadata": {},
   "source": [
    "**Reinforcement Learning**  \n",
    "\n",
    "**Reinforcement Learning** is a very different beast. The learning system, called an **agent** in this context, can observe the environment, select and perform actions, and get rewards in return (or penalties in the form of negative rewards, as in Figure 1-12). It must then learn by itself what is the best strategy, called a policy, to get the most reward over time. A policy defines what action the agent should choose when it is in a given situation.\n",
    "\n",
    "For example, many robots implement Reinforcement Learning algorithms to learn how to walk. Additionally, DeepMind’s AlphaGo program is also a good example of Reinforcement Learning: it made the headlines\n",
    "in March 2016 when it beat the world champion Lee Sedol at the game of Go. It learned its winning policy by analyzing millions of games, and then playing many games against itself. Note that learning was\n",
    "turned off during the games against the champion; AlphaGo was just applying the policy it had learned."
   ]
  },
  {
   "cell_type": "markdown",
   "metadata": {},
   "source": [
    "**Instance-Based Learning & Model-Based Learning** \n",
    "\n",
    "One more way to categorize Machine Learning systems is by how they generalize. Most Machine Learning tasks are about making predictions. This means that given a number of training examples, the\n",
    "system needs to be able to generalize to examples it has never seen before. Having a good performance measure on the training data is good, but insufficient; the true goal is to perform well on new instances. There are two main approaches to generalization: **Instance-based Learning** and **Model-based Learning**.  \n",
    "\n",
    "**Instance-based learning**  \n",
    "Possibly the most trivial form of learning is simply to learn by heart. If you were to create a spam filter this way, it would just flag all emails that are identical to emails that have already been flagged by users — not the worst solution, but certainly not the best. Instead of just flagging emails that are identical to known spam emails, your spam filter could be programmed to also flag emails that are very similar to known spam emails. This requires a measure of similarity between two emails. A (very basic) similarity measure between two emails could be to count the number of words they have in common. The system would flag an email as spam if it has many words in common with a known spam email. This is called **Instance-based learning**: the system learns the examples by heart, then generalizes to new cases using a similarity measure.\n",
    "\n",
    "![Instance Based Learning](../img/instance-based-learning.png)  \n",
    "\n",
    "**Model-based learning**  \n",
    "Another way to generalize from a set of examples is to build a model of these examples, then use that model to make predictions. This is called model-based learning.\n",
    "\n",
    "![Model Based Learning](../img/model-based-learning.png)"
   ]
  },
  {
   "cell_type": "markdown",
   "metadata": {},
   "source": [
    "**Model Selection**  \n",
    "\n",
    "For example, suppose you want to know if money makes people happy, so you download the Better Life Index data from the OECD’s website as well as stats about GDP per capita from the IMF’s website and plot a graph of the data:\n",
    "\n",
    "![GDP per capita](../img/gdp-per-capita.png)  \n",
    "\n",
    "There does seem to be a trend here! Although the data is noisy (i.e., partly random), it looks like life satisfaction goes up more or less linearly as the country’s GDP per capita increases. So you decide to model life satisfaction as a linear function of GDP per capita. This step is called model selection: you selected a linear model of life satisfaction with just one attribute, GDP per capita:  \n",
    "\n",
    "<span style=\"color:#888888\">${\\displaystyle ls = \\theta _1 + \\theta _2 \\times GDPpc }$</span>\n",
    "\n",
    "Where:\n",
    "\n",
    "<span style=\"color:#888888\">$ls$ = Life Satisfaction (our **target**)</span>  \n",
    "<span style=\"color:#888888\">$\\theta _1$ = Paremeter 1</span>  \n",
    "<span style=\"color:#888888\">$\\theta _2$ = Parameter 2</span>  \n",
    "<span style=\"color:#888888\">$GDPpc$ = GDP per Capita</span>\n",
    "\n",
    "By tweaking these parameters, you can make your model represent any linear function."
   ]
  },
  {
   "cell_type": "markdown",
   "metadata": {},
   "source": [
    "**A final note...**\n",
    "\n",
    "Many of the terms in ML are interchangable or can mean different things in different contexts! If you're ever unsure as to what a particular term means, you can refer to the **Glossary** chapter of this tutorial."
   ]
  },
  {
   "cell_type": "markdown",
   "metadata": {},
   "source": [
    "#### Further Reading\n",
    "\n"
   ]
  },
  {
   "cell_type": "code",
   "execution_count": null,
   "metadata": {},
   "outputs": [],
   "source": []
  }
 ],
 "metadata": {
  "kernelspec": {
   "display_name": "Python 3",
   "language": "python",
   "name": "python3"
  },
  "language_info": {
   "codemirror_mode": {
    "name": "ipython",
    "version": 3
   },
   "file_extension": ".py",
   "mimetype": "text/x-python",
   "name": "python",
   "nbconvert_exporter": "python",
   "pygments_lexer": "ipython3",
   "version": "3.6.4"
  }
 },
 "nbformat": 4,
 "nbformat_minor": 2
}
