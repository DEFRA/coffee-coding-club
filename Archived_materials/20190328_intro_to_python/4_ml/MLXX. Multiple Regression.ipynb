{
 "cells": [
  {
   "cell_type": "markdown",
   "metadata": {},
   "source": [
    "#### MLXX: Multiple Regression"
   ]
  },
  {
   "cell_type": "markdown",
   "metadata": {},
   "source": [
    "**Introduction**\n",
    "\n",
    "You'll remember in our introduction to Linear Regression that we built a simple linear regression model to see if we could predict house prices from scikit-learn's Boston dataset containing house price data alongiside a number of other variables. In that we used the `av_rooms` variable as a **predictor** for our **target** variable of `price`. You'll also remember that we built a **performance measure** of **Root Mean Squared Error (RMSE)** and this told us that our model wasn't particularly good!  \n",
    "\n",
    "One of the ways in which we could improve this is  with more data, specifically putting additional variables from the Boston dataset into our linear model to see if it improves performance. This is a technique called **Mulitple Regression** and ee're going to explore this concept in this section of the course."
   ]
  },
  {
   "cell_type": "markdown",
   "metadata": {},
   "source": [
    "**Multiple Regression**\n",
    "In the field of ML and Data Science it will be incredibly rare for you to find a strong enough relationship between two variables to allow you to build a reliable and accurate model. In real life, relationships are complex\n",
    "\n",
    "Mutiple Regression lets you explore how multiple **features** are related to your **target** variable and use them to predict values."
   ]
  },
  {
   "cell_type": "code",
   "execution_count": 77,
   "metadata": {},
   "outputs": [],
   "source": [
    "import numpy as np\n",
    "import pandas as pd\n",
    "import matplotlib.pyplot as plt\n",
    "import seaborn as sns\n",
    "%matplotlib inline"
   ]
  },
  {
   "cell_type": "markdown",
   "metadata": {},
   "source": [
    "#### Sources & Further Reading"
   ]
  },
  {
   "cell_type": "markdown",
   "metadata": {},
   "source": [
    "[Introduction to Multiple Linear Regression](http://www.biddle.com/documents/bcg_comp_chapter4.pdf)  "
   ]
  }
 ],
 "metadata": {
  "kernelspec": {
   "display_name": "Python 3",
   "language": "python",
   "name": "python3"
  },
  "language_info": {
   "codemirror_mode": {
    "name": "ipython",
    "version": 3
   },
   "file_extension": ".py",
   "mimetype": "text/x-python",
   "name": "python",
   "nbconvert_exporter": "python",
   "pygments_lexer": "ipython3",
   "version": "3.6.4"
  }
 },
 "nbformat": 4,
 "nbformat_minor": 2
}
