{
 "cells": [
  {
   "cell_type": "code",
   "execution_count": 1,
   "metadata": {
    "collapsed": true
   },
   "outputs": [],
   "source": [
    "from IPython.display import Image"
   ]
  },
  {
   "cell_type": "markdown",
   "metadata": {},
   "source": [
    "# V00: Introduction to Data Visualisation"
   ]
  },
  {
   "cell_type": "markdown",
   "metadata": {},
   "source": [
    "You'll likely have heard the term 'data visualisation' (commonly abbreviated to 'data vis') before. It's a general term that describes helping users understand the data by placing it in a visual context. Patterns, trends and correlations that might go undetected in text-based data can be gleaned and highlighted easier with data visualization software and languages, such as R and of course Python.\n",
    "\n",
    "More recently, data vis has grown beyond Excel spreadsheets and charts and become more sophisticated allowing data to be displayed in ways such as GIS maps, infographics, sparklines, heatmaps etc."
   ]
  },
  {
   "cell_type": "markdown",
   "metadata": {},
   "source": [
    "## Data Vis in Python"
   ]
  },
  {
   "cell_type": "markdown",
   "metadata": {},
   "source": [
    "Python has some excellent packages for data visualisation and we'll be giving an overview of some of these in this chapter.\n"
   ]
  },
  {
   "cell_type": "markdown",
   "metadata": {},
   "source": [
    "![title](img/matplot.png)"
   ]
  },
  {
   "cell_type": "markdown",
   "metadata": {},
   "source": [
    "<a href =\"http://matplotlib.org/\">Matplotlib</a> is probably the most popular data vis library in Python. It was originally created in 2002 making it one of the oldest Python libraries still in use and is based upon the MATLAB visualisation suite.\n",
    "\n",
    "Matplotlib can be used in Python scripts, Jupyter, web application servers, and graphical user interface toolkits."
   ]
  },
  {
   "cell_type": "markdown",
   "metadata": {},
   "source": [
    "![title](img/seaborn.png)"
   ]
  },
  {
   "cell_type": "markdown",
   "metadata": {},
   "source": [
    "<a href = \"https://stanford.edu/~mwaskom/software/seaborn/index.html#\">Seaborn</a> is a library for making attractive and informative statistical graphics in Python. It is built on top of matplotlib and tightly integrated with Anaconda, including support for numpy and pandas data structures and statistical routines from scipy and statsmodels.\n",
    "\n",
    "Some of the features that seaborn offers are:\n",
    "\n",
    "* Several built-in themes that improve on the default matplotlib aesthetics\n",
    "* Tools for choosing color palettes to make beautiful plots that reveal patterns in your data\n",
    "* Functions for visualizing univariate and bivariate distributions or for comparing them between subsets of data\n",
    "* Tools that fit and visualize linear regression models for different kinds of independent and dependent variables\n",
    "* Functions that visualize matrices of data and use clustering algorithms to discover structure in those matrices\n",
    "* A function to plot statistical timeseries data with flexible estimation and representation of uncertainty around the estimate\n",
    "* High-level abstractions for structuring grids of plots that let you easily build complex visualizations\n",
    "\n",
    "You can install it as follows:"
   ]
  },
  {
   "cell_type": "raw",
   "metadata": {},
   "source": [
    "pip install seaborn"
   ]
  },
  {
   "cell_type": "markdown",
   "metadata": {},
   "source": [
    "![title](img/bokeh.png)"
   ]
  },
  {
   "cell_type": "markdown",
   "metadata": {},
   "source": [
    "<a href = \"http://bokeh.pydata.org/en/latest/\">Bokeh</a> is a Python interactive visualization library that targets modern web browsers for presentation. Its goal is to provide elegant, concise construction of novel graphics in the style of D3.js, and to extend this capability with high-performance interactivity over very large or streaming datasets. Bokeh can help anyone who would like to quickly and easily create interactive plots, dashboards, and data applications.\n",
    "\n",
    "Also (if you needed any more incentive to use it!), Bokeh is made by Continuum Analytics, the very same people responsible for putting Anaconda together and comes as part of the standard installation."
   ]
  },
  {
   "cell_type": "markdown",
   "metadata": {},
   "source": [
    "![title](img/plotly.png)"
   ]
  },
  {
   "cell_type": "markdown",
   "metadata": {},
   "source": [
    "<a href = \"https://plot.ly/\">Plotly</a> is an online analytics and data visualization tool,and provides online graphing, analytics, and stats tools for individuals and collaboration. It can also be integrated with other software and languages such as Python, R, MATLAB, Perl, Julia, Arduino, and REST. Up until very recently Plotly was a 'paid' service (and still is if you want to <a href = \"https://plot.ly/products/cloud/\">host files online</a>), however they've recently taken the decision to <a href = \"https://plot.ly/javascript/open-source-announcement/\"> go open source</a>.\n",
    "\n",
    "Plotly isn't a 'typical' Python library in that whilst you can use it offline, much of the content is posted to the web instead of output in Jupyter. This can make it difficult to use sensitive data and is an added layer of complexity.\n",
    "\n",
    "You can install it as follows:"
   ]
  },
  {
   "cell_type": "raw",
   "metadata": {
    "collapsed": true
   },
   "source": [
    "pip install plotly"
   ]
  },
  {
   "cell_type": "markdown",
   "metadata": {},
   "source": [
    "We won't be going through Plotly as part of this course, however there are some excellent tutorials available <a href = \"http://nbviewer.jupyter.org/github/plotly/python-user-guide/blob/master/Index.ipynb\">here</a>."
   ]
  },
  {
   "cell_type": "markdown",
   "metadata": {},
   "source": [
    "![title](img/lightning.png)"
   ]
  },
  {
   "cell_type": "markdown",
   "metadata": {
    "collapsed": true
   },
   "source": [
    "Similar to Ploty, <a href = \"lightning-viz.org\">Lightning</a> integrates with a number of software languages and produces some quite swanky looking graphs. Note that whilst the graphs are interactive to an extent, they don't appear to have tooltips that pop up which is a shame.\n",
    "\n",
    "You can install it as follows:\n"
   ]
  },
  {
   "cell_type": "raw",
   "metadata": {},
   "source": [
    "pip install lightning-python"
   ]
  },
  {
   "cell_type": "markdown",
   "metadata": {},
   "source": [
    "## Structure of this Section"
   ]
  },
  {
   "cell_type": "markdown",
   "metadata": {},
   "source": [
    "Data Vis in Python is a massive area and you could quite easily fill a training course with examples and exercises for each of the libraries listed. As such the trianing here will show the basics for a few libraries and signpost you to more information and material to enable you to learn more after the course."
   ]
  }
 ],
 "metadata": {
  "anaconda-cloud": {},
  "kernelspec": {
   "display_name": "Python [default]",
   "language": "python",
   "name": "python3"
  },
  "language_info": {
   "codemirror_mode": {
    "name": "ipython",
    "version": 3
   },
   "file_extension": ".py",
   "mimetype": "text/x-python",
   "name": "python",
   "nbconvert_exporter": "python",
   "pygments_lexer": "ipython3",
   "version": "3.5.2"
  }
 },
 "nbformat": 4,
 "nbformat_minor": 0
}
