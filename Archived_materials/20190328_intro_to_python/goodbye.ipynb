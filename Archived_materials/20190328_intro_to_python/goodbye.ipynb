{
 "cells": [
  {
   "cell_type": "markdown",
   "metadata": {},
   "source": [
    "# Z0: In Closing... 10-08-2016"
   ]
  },
  {
   "cell_type": "markdown",
   "metadata": {},
   "source": [
    "Well, we've come to the end of the course! Congratulations on making it this far and I hope you've enjoyed the course and are feeling motivated and ready to go and exercise your new found Python skills!\n",
    "\n",
    "As I've said a few times, it's VITAL that you have a project to consolidate and expand your learning on. It's even MORE VITAL that you devote the necessary time and effort to not only starting, but carrying on and completing your project. To help you with this I've put together a checklist of things to do to make sure that your project is a success!"
   ]
  },
  {
   "cell_type": "markdown",
   "metadata": {},
   "source": [
    "### 1) Have a plan (around your day job!)\n",
    "### 2) Have a Deadline\n",
    "### 3) Set Aside Time in your Diary\n",
    "### 4) Avoid Interruptions!\n",
    "### 5) Don't be afraid of getting stuck!\n",
    "### 6) Beware Procrastination!\n",
    "### 7) Codeclubs & Show and Tell!"
   ]
  },
  {
   "cell_type": "markdown",
   "metadata": {},
   "source": [
    "### Further Learning..."
   ]
  },
  {
   "cell_type": "markdown",
   "metadata": {},
   "source": [
    "Once you've spent some time using Python, you'll probably want to start investigating other concepts, particularly some of the more exciting ones such as APIs, Web Scraping, Machine Learning etc."
   ]
  },
  {
   "cell_type": "markdown",
   "metadata": {},
   "source": [
    "These are massive topics worthy of training courses in their own right, but you will find some material to get you started in my Github Analysts Training repo available as follows:"
   ]
  },
  {
   "cell_type": "markdown",
   "metadata": {},
   "source": [
    "asdf"
   ]
  },
  {
   "cell_type": "markdown",
   "metadata": {},
   "source": [
    "This contains both the advanced stuff as well as the lessons you've gone through as part of this training also. You can view them online here:"
   ]
  },
  {
   "cell_type": "markdown",
   "metadata": {},
   "source": [
    "asdf"
   ]
  },
  {
   "cell_type": "code",
   "execution_count": null,
   "metadata": {
    "collapsed": true
   },
   "outputs": [],
   "source": []
  }
 ],
 "metadata": {
  "kernelspec": {
   "display_name": "Python 3",
   "language": "python",
   "name": "python3"
  },
  "language_info": {
   "codemirror_mode": {
    "name": "ipython",
    "version": 3
   },
   "file_extension": ".py",
   "mimetype": "text/x-python",
   "name": "python",
   "nbconvert_exporter": "python",
   "pygments_lexer": "ipython3",
   "version": "3.5.1"
  }
 },
 "nbformat": 4,
 "nbformat_minor": 0
}
